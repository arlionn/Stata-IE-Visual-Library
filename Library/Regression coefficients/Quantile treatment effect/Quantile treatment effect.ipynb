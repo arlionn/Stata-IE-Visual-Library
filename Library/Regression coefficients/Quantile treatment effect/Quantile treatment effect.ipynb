{
 "cells": [
  {
   "cell_type": "markdown",
   "metadata": {},
   "source": [
    "## 1. Prepare the Data"
   ]
  },
  {
   "cell_type": "markdown",
   "metadata": {},
   "source": [
    "### 1) Install additional packages required to run the code"
   ]
  },
  {
   "cell_type": "code",
   "execution_count": 21,
   "metadata": {},
   "outputs": [
    {
     "name": "stdout",
     "output_type": "stream",
     "text": [
      "\n",
      "checking qreg2 consistency and verifying not already installed...\n",
      "all files already exist and are up to date.\n",
      "\n",
      "checking coefplot consistency and verifying not already installed...\n",
      "all files already exist and are up to date.\n"
     ]
    }
   ],
   "source": [
    "ssc install qreg2    , replace\n",
    "ssc install coefplot , replace"
   ]
  },
  {
   "cell_type": "markdown",
   "metadata": {},
   "source": [
    "### 2) Load data"
   ]
  },
  {
   "cell_type": "code",
   "execution_count": 22,
   "metadata": {},
   "outputs": [
    {
     "name": "stdout",
     "output_type": "stream",
     "text": [
      "(Student Standardized Test Scores)\n"
     ]
    }
   ],
   "source": [
    "use \"https://raw.githubusercontent.com/worldbank/Stata-IE-Visual-Library/develop/Library/Regression%20coefficients/Quantile%20treatment%20effect/data.dta\", clear"
   ]
  },
  {
   "cell_type": "markdown",
   "metadata": {},
   "source": [
    "### 3) Generate dummies for strata (factor variables do not work in 'qreg2')"
   ]
  },
  {
   "cell_type": "code",
   "execution_count": 23,
   "metadata": {},
   "outputs": [
    {
     "name": "stdout",
     "output_type": "stream",
     "text": [
      "\n",
      "     Strata |      Freq.     Percent        Cum.\n",
      "------------+-----------------------------------\n",
      "          1 |      2,196       48.68       48.68\n",
      "          2 |      1,420       31.48       80.16\n",
      "          3 |        702       15.56       95.72\n",
      "          4 |        193        4.28      100.00\n",
      "------------+-----------------------------------\n",
      "      Total |      4,511      100.00\n"
     ]
    }
   ],
   "source": [
    "tab school_strata, gen(school_strata_)"
   ]
  },
  {
   "cell_type": "markdown",
   "metadata": {},
   "source": [
    "## 2. Estimate Coefficients"
   ]
  },
  {
   "cell_type": "markdown",
   "metadata": {},
   "source": [
    "### 1) Define regression options"
   ]
  },
  {
   "cell_type": "code",
   "execution_count": 24,
   "metadata": {},
   "outputs": [],
   "source": [
    "local quantileInterval = 0.1\n",
    "local statSignLevel    = 90"
   ]
  },
  {
   "cell_type": "markdown",
   "metadata": {},
   "source": [
    "### 2) Initiate locals (to be filled in the next loop)"
   ]
  },
  {
   "cell_type": "code",
   "execution_count": 25,
   "metadata": {},
   "outputs": [],
   "source": [
    "local quantileLabels   = \"\"     //x-axis label\n",
    "local modelsList       = \"\"     //estimates name\n",
    "local quantileCount    = 1      //count of quantile regression"
   ]
  },
  {
   "cell_type": "markdown",
   "metadata": {},
   "source": [
    "### 3) Setting quantiles"
   ]
  },
  {
   "cell_type": "code",
   "execution_count": 26,
   "metadata": {},
   "outputs": [],
   "source": [
    "forv  quantile = `quantileInterval'(`quantileInterval')`=1-`quantileInterval'' {\n",
    "    local roundQuantile =  round(real(string(`quantile'*100, \"%4.0f\")),10)/100                // This is needed, otherwise Stata gives issue with the last numbers of the sequence and with roundin\n",
    "    local integerQuantile = `roundQuantile'*100\n",
    "    eststo est_q`integerQuantile': qui qreg2 student_average_std school_treated school_strata_*, ///\n",
    "    q(`roundQuantile') cl(school_id)                                                          // Store estimates from quantile regression with fixed effects and clustered standard errors\n",
    "    local  quantileLabels `\"`quantileLabels' `quantileCount++' \"Q{sub:`integerQuantile'} \" \"' // Add these estimate to locals\n",
    "    local  modelsList `\"`modelsList' est_q`integerQuantile' || \"'\n",
    "}"
   ]
  },
  {
   "cell_type": "markdown",
   "metadata": {},
   "source": [
    "## 3. Plot Graph"
   ]
  },
  {
   "cell_type": "code",
   "execution_count": 27,
   "metadata": {},
   "outputs": [
    {
     "data": {
      "application/pdf": "[encoded data removed]",
      "image/svg+xml": [
       "<?xml version=\"1.0\" encoding=\"UTF-8\" standalone=\"no\"?>\n",
       "<!-- This is a Stata 15.1 generated SVG file (http://www.stata.com) -->\n",
       "\n",
       "<svg version=\"1.1\" width=\"600px\" height=\"436px\" viewBox=\"0 0 3960 2880\" xmlns=\"http://www.w3.org/2000/svg\" xmlns:xlink=\"http://www.w3.org/1999/xlink\">\n",
       "\t<desc>Stata Graph - Graph</desc>\n",
       "\t<rect x=\"0\" y=\"0\" width=\"3960\" height=\"2880\" style=\"fill:#EAF2F3;stroke:none\"/>\n",
       "\t<rect x=\"0.00\" y=\"0.00\" width=\"3959.88\" height=\"2880.00\" style=\"fill:#FFFFFF\"/>\n",
       "\t<rect x=\"2.88\" y=\"2.88\" width=\"3954.12\" height=\"2874.24\" style=\"fill:none;stroke:#FFFFFF;stroke-width:5.76\"/>\n",
       "\t<rect x=\"382.39\" y=\"419.90\" width=\"3476.63\" height=\"1974.74\" style=\"fill:#FFFFFF\"/>\n",
       "\t<rect x=\"385.27\" y=\"422.78\" width=\"3470.87\" height=\"1968.98\" style=\"fill:none;stroke:#FFFFFF;stroke-width:5.76\"/>\n",
       "\t<line x1=\"382.39\" y1=\"2315.31\" x2=\"3859.02\" y2=\"2315.31\" style=\"stroke:#EAF2F3;stroke-width:8.64\"/>\n",
       "\t<line x1=\"382.39\" y1=\"1883.66\" x2=\"3859.02\" y2=\"1883.66\" style=\"stroke:#EAF2F3;stroke-width:8.64\"/>\n",
       "\t<line x1=\"382.39\" y1=\"1452.00\" x2=\"3859.02\" y2=\"1452.00\" style=\"stroke:#EAF2F3;stroke-width:8.64\"/>\n",
       "\t<line x1=\"382.39\" y1=\"1020.35\" x2=\"3859.02\" y2=\"1020.35\" style=\"stroke:#EAF2F3;stroke-width:8.64\"/>\n",
       "\t<line x1=\"382.39\" y1=\"588.82\" x2=\"3859.02\" y2=\"588.82\" style=\"stroke:#EAF2F3;stroke-width:8.64\"/>\n",
       "\t<line x1=\"382.39\" y1=\"2315.31\" x2=\"3859.02\" y2=\"2315.31\" style=\"stroke:#000000;stroke-width:5.76\"/>\n",
       "\t<line x1=\"575.56\" y1=\"2261.97\" x2=\"575.56\" y2=\"1677.24\" style=\"stroke:#008BBC;stroke-width:8.64\"/>\n",
       "\t<line x1=\"553.53\" y1=\"1677.24\" x2=\"597.59\" y2=\"1677.24\" stroke-linecap=\"round\" style=\"stroke:#008BBC;stroke-width:8.64\"/>\n",
       "\t<line x1=\"553.53\" y1=\"2261.97\" x2=\"597.59\" y2=\"2261.97\" stroke-linecap=\"round\" style=\"stroke:#008BBC;stroke-width:8.64\"/>\n",
       "\t<line x1=\"961.91\" y1=\"2283.14\" x2=\"961.91\" y2=\"1639.12\" style=\"stroke:#008BBC;stroke-width:8.64\"/>\n",
       "\t<line x1=\"939.88\" y1=\"1639.12\" x2=\"983.94\" y2=\"1639.12\" stroke-linecap=\"round\" style=\"stroke:#008BBC;stroke-width:8.64\"/>\n",
       "\t<line x1=\"939.88\" y1=\"2283.14\" x2=\"983.94\" y2=\"2283.14\" stroke-linecap=\"round\" style=\"stroke:#008BBC;stroke-width:8.64\"/>\n",
       "\t<line x1=\"1348.13\" y1=\"2312.96\" x2=\"1348.13\" y2=\"1631.94\" style=\"stroke:#008BBC;stroke-width:8.64\"/>\n",
       "\t<line x1=\"1326.11\" y1=\"1631.94\" x2=\"1370.16\" y2=\"1631.94\" stroke-linecap=\"round\" style=\"stroke:#008BBC;stroke-width:8.64\"/>\n",
       "\t<line x1=\"1326.11\" y1=\"2312.96\" x2=\"1370.16\" y2=\"2312.96\" stroke-linecap=\"round\" style=\"stroke:#008BBC;stroke-width:8.64\"/>\n",
       "\t<line x1=\"1734.48\" y1=\"2280.91\" x2=\"1734.48\" y2=\"1428.37\" style=\"stroke:#008BBC;stroke-width:8.64\"/>\n",
       "\t<line x1=\"1712.45\" y1=\"1428.37\" x2=\"1756.51\" y2=\"1428.37\" stroke-linecap=\"round\" style=\"stroke:#008BBC;stroke-width:8.64\"/>\n",
       "\t<line x1=\"1712.45\" y1=\"2280.91\" x2=\"1756.51\" y2=\"2280.91\" stroke-linecap=\"round\" style=\"stroke:#008BBC;stroke-width:8.64\"/>\n",
       "\t<line x1=\"2120.70\" y1=\"2331.28\" x2=\"2120.70\" y2=\"1268.48\" style=\"stroke:#008BBC;stroke-width:8.64\"/>\n",
       "\t<line x1=\"2098.68\" y1=\"1268.48\" x2=\"2142.73\" y2=\"1268.48\" stroke-linecap=\"round\" style=\"stroke:#008BBC;stroke-width:8.64\"/>\n",
       "\t<line x1=\"2098.68\" y1=\"2331.28\" x2=\"2142.73\" y2=\"2331.28\" stroke-linecap=\"round\" style=\"stroke:#008BBC;stroke-width:8.64\"/>\n",
       "\t<line x1=\"2507.05\" y1=\"2193.41\" x2=\"2507.05\" y2=\"1133.96\" style=\"stroke:#008BBC;stroke-width:8.64\"/>\n",
       "\t<line x1=\"2485.02\" y1=\"1133.96\" x2=\"2529.08\" y2=\"1133.96\" stroke-linecap=\"round\" style=\"stroke:#008BBC;stroke-width:8.64\"/>\n",
       "\t<line x1=\"2485.02\" y1=\"2193.41\" x2=\"2529.08\" y2=\"2193.41\" stroke-linecap=\"round\" style=\"stroke:#008BBC;stroke-width:8.64\"/>\n",
       "\t<line x1=\"2893.40\" y1=\"2218.54\" x2=\"2893.40\" y2=\"912.44\" style=\"stroke:#008BBC;stroke-width:8.64\"/>\n",
       "\t<line x1=\"2871.37\" y1=\"912.44\" x2=\"2915.43\" y2=\"912.44\" stroke-linecap=\"round\" style=\"stroke:#008BBC;stroke-width:8.64\"/>\n",
       "\t<line x1=\"2871.37\" y1=\"2218.54\" x2=\"2915.43\" y2=\"2218.54\" stroke-linecap=\"round\" style=\"stroke:#008BBC;stroke-width:8.64\"/>\n",
       "\t<line x1=\"3279.62\" y1=\"1910.26\" x2=\"3279.62\" y2=\"483.26\" style=\"stroke:#008BBC;stroke-width:8.64\"/>\n",
       "\t<line x1=\"3257.59\" y1=\"483.26\" x2=\"3301.65\" y2=\"483.26\" stroke-linecap=\"round\" style=\"stroke:#008BBC;stroke-width:8.64\"/>\n",
       "\t<line x1=\"3257.59\" y1=\"1910.26\" x2=\"3301.65\" y2=\"1910.26\" stroke-linecap=\"round\" style=\"stroke:#008BBC;stroke-width:8.64\"/>\n",
       "\t<line x1=\"3665.97\" y1=\"1997.02\" x2=\"3665.97\" y2=\"569.64\" style=\"stroke:#008BBC;stroke-width:8.64\"/>\n",
       "\t<line x1=\"3643.94\" y1=\"569.64\" x2=\"3688.00\" y2=\"569.64\" stroke-linecap=\"round\" style=\"stroke:#008BBC;stroke-width:8.64\"/>\n",
       "\t<line x1=\"3643.94\" y1=\"1997.02\" x2=\"3688.00\" y2=\"1997.02\" stroke-linecap=\"round\" style=\"stroke:#008BBC;stroke-width:8.64\"/>\n",
       "\t<polygon points=\"538.27,1969.67 575.56,1932.37 612.86,1969.67 575.56,2006.96\" style=\"fill:#008BBC\"/>\n",
       "\t<polygon points=\"544.38,1969.67 575.56,1938.48 606.75,1969.67 575.56,2000.85\" style=\"fill:none;stroke:#008BBC;stroke-width:8.64\"/>\n",
       "\t<text x=\"617.51\" y=\"1997.68\" style=\"font-family:'Helvetica';font-size:79.94px;fill:#1A476f\">.08</text>\n",
       "\t<polygon points=\"924.61,1961.13 961.91,1923.83 999.20,1961.13 961.91,1998.42\" style=\"fill:#008BBC\"/>\n",
       "\t<polygon points=\"930.72,1961.13 961.91,1929.94 993.09,1961.13 961.91,1992.31\" style=\"fill:none;stroke:#008BBC;stroke-width:8.64\"/>\n",
       "\t<text x=\"1003.86\" y=\"1989.14\" style=\"font-family:'Helvetica';font-size:79.94px;fill:#1A476f\">.082</text>\n",
       "\t<polygon points=\"1310.84,1972.51 1348.13,1935.22 1385.43,1972.51 1348.13,2009.81\" style=\"fill:#008BBC\"/>\n",
       "\t<polygon points=\"1316.95,1972.51 1348.13,1941.33 1379.32,1972.51 1348.13,2003.70\" style=\"fill:none;stroke:#008BBC;stroke-width:8.64\"/>\n",
       "\t<text x=\"1390.08\" y=\"2000.52\" style=\"font-family:'Helvetica';font-size:79.94px;fill:#1A476f\">.079</text>\n",
       "\t<polygon points=\"1697.19,1854.58 1734.48,1817.28 1771.77,1854.58 1734.48,1891.87\" style=\"fill:#008BBC\"/>\n",
       "\t<polygon points=\"1703.30,1854.58 1734.48,1823.39 1765.66,1854.58 1734.48,1885.76\" style=\"fill:none;stroke:#008BBC;stroke-width:8.64\"/>\n",
       "\t<text x=\"1776.43\" y=\"1882.59\" style=\"font-family:'Helvetica';font-size:79.94px;fill:#1A476f\">.11</text>\n",
       "\t<polygon points=\"2083.41,1799.88 2120.70,1762.58 2158.00,1799.88 2120.70,1837.17\" style=\"fill:#008BBC\"/>\n",
       "\t<polygon points=\"2089.52,1799.88 2120.70,1768.69 2151.89,1799.88 2120.70,1831.06\" style=\"fill:none;stroke:#008BBC;stroke-width:8.64\"/>\n",
       "\t<text x=\"2162.66\" y=\"1827.89\" style=\"font-family:'Helvetica';font-size:79.94px;fill:#1A476f\">.12</text>\n",
       "\t<polygon points=\"2469.76,1663.75 2507.05,1626.45 2544.35,1663.75 2507.05,1701.04\" style=\"fill:#008BBC\"/>\n",
       "\t<polygon points=\"2475.87,1663.75 2507.05,1632.56 2538.24,1663.75 2507.05,1694.93\" style=\"fill:none;stroke:#008BBC;stroke-width:8.64\"/>\n",
       "\t<text x=\"2549.00\" y=\"1691.76\" style=\"font-family:'Helvetica';font-size:79.94px;fill:#1A476f\">.15</text>\n",
       "\t<polygon points=\"2856.10,1565.49 2893.40,1528.19 2930.69,1565.49 2893.40,1602.78\" style=\"fill:#008BBC\"/>\n",
       "\t<polygon points=\"2862.21,1565.49 2893.40,1534.30 2924.58,1565.49 2893.40,1596.67\" style=\"fill:none;stroke:#008BBC;stroke-width:8.64\"/>\n",
       "\t<text x=\"2935.35\" y=\"1593.50\" style=\"font-family:'Helvetica';font-size:79.94px;fill:#1A476f\">.17</text>\n",
       "\t<polygon points=\"3242.33,1196.70 3279.62,1159.41 3316.92,1196.70 3279.62,1233.99\" style=\"fill:#008BBC\"/>\n",
       "\t<polygon points=\"3248.44,1196.70 3279.62,1165.51 3310.81,1196.70 3279.62,1227.88\" style=\"fill:none;stroke:#008BBC;stroke-width:8.64\"/>\n",
       "\t<text x=\"3321.57\" y=\"1224.71\" style=\"font-family:'Helvetica';font-size:79.94px;fill:#1A476f\">.26</text>\n",
       "\t<polygon points=\"3628.68,1283.33 3665.97,1246.03 3703.26,1283.33 3665.97,1320.62\" style=\"fill:#008BBC\"/>\n",
       "\t<polygon points=\"3634.78,1283.33 3665.97,1252.14 3697.15,1283.33 3665.97,1314.51\" style=\"fill:none;stroke:#008BBC;stroke-width:8.64\"/>\n",
       "\t<text x=\"3707.92\" y=\"1311.34\" style=\"font-family:'Helvetica';font-size:79.94px;fill:#1A476f\">.24</text>\n",
       "\t<line x1=\"382.39\" y1=\"2394.64\" x2=\"382.39\" y2=\"419.90\" style=\"stroke:#000000;stroke-width:5.76\"/>\n",
       "\t<line x1=\"382.39\" y1=\"2315.31\" x2=\"342.42\" y2=\"2315.31\" style=\"stroke:#000000;stroke-width:5.76\"/>\n",
       "\t<text x=\"292.31\" y=\"2315.31\" style=\"font-family:'Helvetica';font-size:99.99px;fill:#000000\" transform=\"rotate(-90 292.31,2315.31)\" text-anchor=\"middle\">0</text>\n",
       "\t<line x1=\"382.39\" y1=\"1883.66\" x2=\"342.42\" y2=\"1883.66\" style=\"stroke:#000000;stroke-width:5.76\"/>\n",
       "\t<text x=\"292.31\" y=\"1883.66\" style=\"font-family:'Helvetica';font-size:99.99px;fill:#000000\" transform=\"rotate(-90 292.31,1883.66)\" text-anchor=\"middle\">.1</text>\n",
       "\t<line x1=\"382.39\" y1=\"1452.00\" x2=\"342.42\" y2=\"1452.00\" style=\"stroke:#000000;stroke-width:5.76\"/>\n",
       "\t<text x=\"292.31\" y=\"1452.00\" style=\"font-family:'Helvetica';font-size:99.99px;fill:#000000\" transform=\"rotate(-90 292.31,1452.00)\" text-anchor=\"middle\">.2</text>\n",
       "\t<line x1=\"382.39\" y1=\"1020.35\" x2=\"342.42\" y2=\"1020.35\" style=\"stroke:#000000;stroke-width:5.76\"/>\n",
       "\t<text x=\"292.31\" y=\"1020.35\" style=\"font-family:'Helvetica';font-size:99.99px;fill:#000000\" transform=\"rotate(-90 292.31,1020.35)\" text-anchor=\"middle\">.3</text>\n",
       "\t<line x1=\"382.39\" y1=\"588.82\" x2=\"342.42\" y2=\"588.82\" style=\"stroke:#000000;stroke-width:5.76\"/>\n",
       "\t<text x=\"292.31\" y=\"588.82\" style=\"font-family:'Helvetica';font-size:99.99px;fill:#000000\" transform=\"rotate(-90 292.31,588.82)\" text-anchor=\"middle\">.4</text>\n",
       "\t<text x=\"190.71\" y=\"1407.33\" style=\"font-family:'Helvetica';font-size:99.99px;fill:#000000\" transform=\"rotate(-90 190.71,1407.33)\" text-anchor=\"middle\">Standard deviations</text>\n",
       "\t<line x1=\"382.39\" y1=\"2394.64\" x2=\"3859.02\" y2=\"2394.64\" style=\"stroke:#000000;stroke-width:5.76\"/>\n",
       "\t<line x1=\"575.56\" y1=\"2394.64\" x2=\"575.56\" y2=\"2434.73\" style=\"stroke:#000000;stroke-width:5.76\"/>\n",
       "\t<text x=\"575.56\" y=\"2524.59\" style=\"fill:#000000\" text-anchor=\"middle\">\n",
       "\t\t<tspan style=\"font-family:'Helvetica';font-size:99.99px\">Q</tspan>\n",
       "\t\t<tspan dy=\"14.28px\" style=\"font-family:'Helvetica';font-size:58.29px\">10</tspan>\n",
       "\t\t<tspan dy=\"-14.28px\" style=\"font-family:'Helvetica';font-size:99.99px\"> </tspan>\n",
       "\t</text>\n",
       "\t<line x1=\"961.91\" y1=\"2394.64\" x2=\"961.91\" y2=\"2434.73\" style=\"stroke:#000000;stroke-width:5.76\"/>\n",
       "\t<text x=\"961.91\" y=\"2524.59\" style=\"fill:#000000\" text-anchor=\"middle\">\n",
       "\t\t<tspan style=\"font-family:'Helvetica';font-size:99.99px\">Q</tspan>\n",
       "\t\t<tspan dy=\"14.28px\" style=\"font-family:'Helvetica';font-size:58.29px\">20</tspan>\n",
       "\t\t<tspan dy=\"-14.28px\" style=\"font-family:'Helvetica';font-size:99.99px\"> </tspan>\n",
       "\t</text>\n",
       "\t<line x1=\"1348.13\" y1=\"2394.64\" x2=\"1348.13\" y2=\"2434.73\" style=\"stroke:#000000;stroke-width:5.76\"/>\n",
       "\t<text x=\"1348.13\" y=\"2524.59\" style=\"fill:#000000\" text-anchor=\"middle\">\n",
       "\t\t<tspan style=\"font-family:'Helvetica';font-size:99.99px\">Q</tspan>\n",
       "\t\t<tspan dy=\"14.28px\" style=\"font-family:'Helvetica';font-size:58.29px\">30</tspan>\n",
       "\t\t<tspan dy=\"-14.28px\" style=\"font-family:'Helvetica';font-size:99.99px\"> </tspan>\n",
       "\t</text>\n",
       "\t<line x1=\"1734.48\" y1=\"2394.64\" x2=\"1734.48\" y2=\"2434.73\" style=\"stroke:#000000;stroke-width:5.76\"/>\n",
       "\t<text x=\"1734.48\" y=\"2524.59\" style=\"fill:#000000\" text-anchor=\"middle\">\n",
       "\t\t<tspan style=\"font-family:'Helvetica';font-size:99.99px\">Q</tspan>\n",
       "\t\t<tspan dy=\"14.28px\" style=\"font-family:'Helvetica';font-size:58.29px\">40</tspan>\n",
       "\t\t<tspan dy=\"-14.28px\" style=\"font-family:'Helvetica';font-size:99.99px\"> </tspan>\n",
       "\t</text>\n",
       "\t<line x1=\"2120.70\" y1=\"2394.64\" x2=\"2120.70\" y2=\"2434.73\" style=\"stroke:#000000;stroke-width:5.76\"/>\n",
       "\t<text x=\"2120.70\" y=\"2524.59\" style=\"fill:#000000\" text-anchor=\"middle\">\n",
       "\t\t<tspan style=\"font-family:'Helvetica';font-size:99.99px\">Q</tspan>\n",
       "\t\t<tspan dy=\"14.28px\" style=\"font-family:'Helvetica';font-size:58.29px\">50</tspan>\n",
       "\t\t<tspan dy=\"-14.28px\" style=\"font-family:'Helvetica';font-size:99.99px\"> </tspan>\n",
       "\t</text>\n",
       "\t<line x1=\"2507.05\" y1=\"2394.64\" x2=\"2507.05\" y2=\"2434.73\" style=\"stroke:#000000;stroke-width:5.76\"/>\n",
       "\t<text x=\"2507.05\" y=\"2524.59\" style=\"fill:#000000\" text-anchor=\"middle\">\n",
       "\t\t<tspan style=\"font-family:'Helvetica';font-size:99.99px\">Q</tspan>\n",
       "\t\t<tspan dy=\"14.28px\" style=\"font-family:'Helvetica';font-size:58.29px\">60</tspan>\n",
       "\t\t<tspan dy=\"-14.28px\" style=\"font-family:'Helvetica';font-size:99.99px\"> </tspan>\n",
       "\t</text>\n",
       "\t<line x1=\"2893.40\" y1=\"2394.64\" x2=\"2893.40\" y2=\"2434.73\" style=\"stroke:#000000;stroke-width:5.76\"/>\n",
       "\t<text x=\"2893.40\" y=\"2524.59\" style=\"fill:#000000\" text-anchor=\"middle\">\n",
       "\t\t<tspan style=\"font-family:'Helvetica';font-size:99.99px\">Q</tspan>\n",
       "\t\t<tspan dy=\"14.28px\" style=\"font-family:'Helvetica';font-size:58.29px\">70</tspan>\n",
       "\t\t<tspan dy=\"-14.28px\" style=\"font-family:'Helvetica';font-size:99.99px\"> </tspan>\n",
       "\t</text>\n",
       "\t<line x1=\"3279.62\" y1=\"2394.64\" x2=\"3279.62\" y2=\"2434.73\" style=\"stroke:#000000;stroke-width:5.76\"/>\n",
       "\t<text x=\"3279.62\" y=\"2524.59\" style=\"fill:#000000\" text-anchor=\"middle\">\n",
       "\t\t<tspan style=\"font-family:'Helvetica';font-size:99.99px\">Q</tspan>\n",
       "\t\t<tspan dy=\"14.28px\" style=\"font-family:'Helvetica';font-size:58.29px\">80</tspan>\n",
       "\t\t<tspan dy=\"-14.28px\" style=\"font-family:'Helvetica';font-size:99.99px\"> </tspan>\n",
       "\t</text>\n",
       "\t<line x1=\"3665.97\" y1=\"2394.64\" x2=\"3665.97\" y2=\"2434.73\" style=\"stroke:#000000;stroke-width:5.76\"/>\n",
       "\t<text x=\"3665.97\" y=\"2524.59\" style=\"fill:#000000\" text-anchor=\"middle\">\n",
       "\t\t<tspan style=\"font-family:'Helvetica';font-size:99.99px\">Q</tspan>\n",
       "\t\t<tspan dy=\"14.28px\" style=\"font-family:'Helvetica';font-size:58.29px\">90</tspan>\n",
       "\t\t<tspan dy=\"-14.28px\" style=\"font-family:'Helvetica';font-size:99.99px\"> </tspan>\n",
       "\t</text>\n",
       "\t<text x=\"399.71\" y=\"2657.95\" style=\"fill:#000000\">\n",
       "\t\t<tspan style=\"font-family:'Helvetica';font-weight:bold;font-size:79.94px\">Note:</tspan>\n",
       "\t\t<tspan style=\"font-family:'Helvetica';font-size:79.94px\"> Estimates of quantile regressions with strata fixed effects and standard errors clustered</tspan>\n",
       "\t</text>\n",
       "\t<text x=\"399.71\" y=\"2737.89\" style=\"font-family:'Helvetica';font-size:79.94px;fill:#000000\">at the school level. Confidence intervals are 90%.</text>\n",
       "\t<text x=\"2120.70\" y=\"369.63\" style=\"font-family:'Helvetica';font-size:110.01px;fill:#000000\" text-anchor=\"middle\">Average Test Score</text>\n",
       "\t<text x=\"2120.70\" y=\"215.98\" style=\"font-family:'Helvetica';font-size:139.96px;fill:#1E2D53\" text-anchor=\"middle\">Quantile Treatment Effect</text>\n",
       "</svg>\n"
      ],
      "text/html": [
       "                <iframe frameborder=\"0\" scrolling=\"no\" height=\"436\" width=\"600\"                srcdoc=\"<html><body>&lt;?xml version=&quot;1.0&quot; encoding=&quot;UTF-8&quot; standalone=&quot;no&quot;?&gt;\n",
       "&lt;!-- This is a Stata 15.1 generated SVG file (http://www.stata.com) --&gt;\n",
       "\n",
       "&lt;svg version=&quot;1.1&quot; width=&quot;600px&quot; height=&quot;436px&quot; viewBox=&quot;0 0 3960 2880&quot; xmlns=&quot;http://www.w3.org/2000/svg&quot; xmlns:xlink=&quot;http://www.w3.org/1999/xlink&quot;&gt;\n",
       "\t&lt;desc&gt;Stata Graph - Graph&lt;/desc&gt;\n",
       "\t&lt;rect x=&quot;0&quot; y=&quot;0&quot; width=&quot;3960&quot; height=&quot;2880&quot; style=&quot;fill:#EAF2F3;stroke:none&quot;/&gt;\n",
       "\t&lt;rect x=&quot;0.00&quot; y=&quot;0.00&quot; width=&quot;3959.88&quot; height=&quot;2880.00&quot; style=&quot;fill:#FFFFFF&quot;/&gt;\n",
       "\t&lt;rect x=&quot;2.88&quot; y=&quot;2.88&quot; width=&quot;3954.12&quot; height=&quot;2874.24&quot; style=&quot;fill:none;stroke:#FFFFFF;stroke-width:5.76&quot;/&gt;\n",
       "\t&lt;rect x=&quot;382.39&quot; y=&quot;419.90&quot; width=&quot;3476.63&quot; height=&quot;1974.74&quot; style=&quot;fill:#FFFFFF&quot;/&gt;\n",
       "\t&lt;rect x=&quot;385.27&quot; y=&quot;422.78&quot; width=&quot;3470.87&quot; height=&quot;1968.98&quot; style=&quot;fill:none;stroke:#FFFFFF;stroke-width:5.76&quot;/&gt;\n",
       "\t&lt;line x1=&quot;382.39&quot; y1=&quot;2315.31&quot; x2=&quot;3859.02&quot; y2=&quot;2315.31&quot; style=&quot;stroke:#EAF2F3;stroke-width:8.64&quot;/&gt;\n",
       "\t&lt;line x1=&quot;382.39&quot; y1=&quot;1883.66&quot; x2=&quot;3859.02&quot; y2=&quot;1883.66&quot; style=&quot;stroke:#EAF2F3;stroke-width:8.64&quot;/&gt;\n",
       "\t&lt;line x1=&quot;382.39&quot; y1=&quot;1452.00&quot; x2=&quot;3859.02&quot; y2=&quot;1452.00&quot; style=&quot;stroke:#EAF2F3;stroke-width:8.64&quot;/&gt;\n",
       "\t&lt;line x1=&quot;382.39&quot; y1=&quot;1020.35&quot; x2=&quot;3859.02&quot; y2=&quot;1020.35&quot; style=&quot;stroke:#EAF2F3;stroke-width:8.64&quot;/&gt;\n",
       "\t&lt;line x1=&quot;382.39&quot; y1=&quot;588.82&quot; x2=&quot;3859.02&quot; y2=&quot;588.82&quot; style=&quot;stroke:#EAF2F3;stroke-width:8.64&quot;/&gt;\n",
       "\t&lt;line x1=&quot;382.39&quot; y1=&quot;2315.31&quot; x2=&quot;3859.02&quot; y2=&quot;2315.31&quot; style=&quot;stroke:#000000;stroke-width:5.76&quot;/&gt;\n",
       "\t&lt;line x1=&quot;575.56&quot; y1=&quot;2261.97&quot; x2=&quot;575.56&quot; y2=&quot;1677.24&quot; style=&quot;stroke:#008BBC;stroke-width:8.64&quot;/&gt;\n",
       "\t&lt;line x1=&quot;553.53&quot; y1=&quot;1677.24&quot; x2=&quot;597.59&quot; y2=&quot;1677.24&quot; stroke-linecap=&quot;round&quot; style=&quot;stroke:#008BBC;stroke-width:8.64&quot;/&gt;\n",
       "\t&lt;line x1=&quot;553.53&quot; y1=&quot;2261.97&quot; x2=&quot;597.59&quot; y2=&quot;2261.97&quot; stroke-linecap=&quot;round&quot; style=&quot;stroke:#008BBC;stroke-width:8.64&quot;/&gt;\n",
       "\t&lt;line x1=&quot;961.91&quot; y1=&quot;2283.14&quot; x2=&quot;961.91&quot; y2=&quot;1639.12&quot; style=&quot;stroke:#008BBC;stroke-width:8.64&quot;/&gt;\n",
       "\t&lt;line x1=&quot;939.88&quot; y1=&quot;1639.12&quot; x2=&quot;983.94&quot; y2=&quot;1639.12&quot; stroke-linecap=&quot;round&quot; style=&quot;stroke:#008BBC;stroke-width:8.64&quot;/&gt;\n",
       "\t&lt;line x1=&quot;939.88&quot; y1=&quot;2283.14&quot; x2=&quot;983.94&quot; y2=&quot;2283.14&quot; stroke-linecap=&quot;round&quot; style=&quot;stroke:#008BBC;stroke-width:8.64&quot;/&gt;\n",
       "\t&lt;line x1=&quot;1348.13&quot; y1=&quot;2312.96&quot; x2=&quot;1348.13&quot; y2=&quot;1631.94&quot; style=&quot;stroke:#008BBC;stroke-width:8.64&quot;/&gt;\n",
       "\t&lt;line x1=&quot;1326.11&quot; y1=&quot;1631.94&quot; x2=&quot;1370.16&quot; y2=&quot;1631.94&quot; stroke-linecap=&quot;round&quot; style=&quot;stroke:#008BBC;stroke-width:8.64&quot;/&gt;\n",
       "\t&lt;line x1=&quot;1326.11&quot; y1=&quot;2312.96&quot; x2=&quot;1370.16&quot; y2=&quot;2312.96&quot; stroke-linecap=&quot;round&quot; style=&quot;stroke:#008BBC;stroke-width:8.64&quot;/&gt;\n",
       "\t&lt;line x1=&quot;1734.48&quot; y1=&quot;2280.91&quot; x2=&quot;1734.48&quot; y2=&quot;1428.37&quot; style=&quot;stroke:#008BBC;stroke-width:8.64&quot;/&gt;\n",
       "\t&lt;line x1=&quot;1712.45&quot; y1=&quot;1428.37&quot; x2=&quot;1756.51&quot; y2=&quot;1428.37&quot; stroke-linecap=&quot;round&quot; style=&quot;stroke:#008BBC;stroke-width:8.64&quot;/&gt;\n",
       "\t&lt;line x1=&quot;1712.45&quot; y1=&quot;2280.91&quot; x2=&quot;1756.51&quot; y2=&quot;2280.91&quot; stroke-linecap=&quot;round&quot; style=&quot;stroke:#008BBC;stroke-width:8.64&quot;/&gt;\n",
       "\t&lt;line x1=&quot;2120.70&quot; y1=&quot;2331.28&quot; x2=&quot;2120.70&quot; y2=&quot;1268.48&quot; style=&quot;stroke:#008BBC;stroke-width:8.64&quot;/&gt;\n",
       "\t&lt;line x1=&quot;2098.68&quot; y1=&quot;1268.48&quot; x2=&quot;2142.73&quot; y2=&quot;1268.48&quot; stroke-linecap=&quot;round&quot; style=&quot;stroke:#008BBC;stroke-width:8.64&quot;/&gt;\n",
       "\t&lt;line x1=&quot;2098.68&quot; y1=&quot;2331.28&quot; x2=&quot;2142.73&quot; y2=&quot;2331.28&quot; stroke-linecap=&quot;round&quot; style=&quot;stroke:#008BBC;stroke-width:8.64&quot;/&gt;\n",
       "\t&lt;line x1=&quot;2507.05&quot; y1=&quot;2193.41&quot; x2=&quot;2507.05&quot; y2=&quot;1133.96&quot; style=&quot;stroke:#008BBC;stroke-width:8.64&quot;/&gt;\n",
       "\t&lt;line x1=&quot;2485.02&quot; y1=&quot;1133.96&quot; x2=&quot;2529.08&quot; y2=&quot;1133.96&quot; stroke-linecap=&quot;round&quot; style=&quot;stroke:#008BBC;stroke-width:8.64&quot;/&gt;\n",
       "\t&lt;line x1=&quot;2485.02&quot; y1=&quot;2193.41&quot; x2=&quot;2529.08&quot; y2=&quot;2193.41&quot; stroke-linecap=&quot;round&quot; style=&quot;stroke:#008BBC;stroke-width:8.64&quot;/&gt;\n",
       "\t&lt;line x1=&quot;2893.40&quot; y1=&quot;2218.54&quot; x2=&quot;2893.40&quot; y2=&quot;912.44&quot; style=&quot;stroke:#008BBC;stroke-width:8.64&quot;/&gt;\n",
       "\t&lt;line x1=&quot;2871.37&quot; y1=&quot;912.44&quot; x2=&quot;2915.43&quot; y2=&quot;912.44&quot; stroke-linecap=&quot;round&quot; style=&quot;stroke:#008BBC;stroke-width:8.64&quot;/&gt;\n",
       "\t&lt;line x1=&quot;2871.37&quot; y1=&quot;2218.54&quot; x2=&quot;2915.43&quot; y2=&quot;2218.54&quot; stroke-linecap=&quot;round&quot; style=&quot;stroke:#008BBC;stroke-width:8.64&quot;/&gt;\n",
       "\t&lt;line x1=&quot;3279.62&quot; y1=&quot;1910.26&quot; x2=&quot;3279.62&quot; y2=&quot;483.26&quot; style=&quot;stroke:#008BBC;stroke-width:8.64&quot;/&gt;\n",
       "\t&lt;line x1=&quot;3257.59&quot; y1=&quot;483.26&quot; x2=&quot;3301.65&quot; y2=&quot;483.26&quot; stroke-linecap=&quot;round&quot; style=&quot;stroke:#008BBC;stroke-width:8.64&quot;/&gt;\n",
       "\t&lt;line x1=&quot;3257.59&quot; y1=&quot;1910.26&quot; x2=&quot;3301.65&quot; y2=&quot;1910.26&quot; stroke-linecap=&quot;round&quot; style=&quot;stroke:#008BBC;stroke-width:8.64&quot;/&gt;\n",
       "\t&lt;line x1=&quot;3665.97&quot; y1=&quot;1997.02&quot; x2=&quot;3665.97&quot; y2=&quot;569.64&quot; style=&quot;stroke:#008BBC;stroke-width:8.64&quot;/&gt;\n",
       "\t&lt;line x1=&quot;3643.94&quot; y1=&quot;569.64&quot; x2=&quot;3688.00&quot; y2=&quot;569.64&quot; stroke-linecap=&quot;round&quot; style=&quot;stroke:#008BBC;stroke-width:8.64&quot;/&gt;\n",
       "\t&lt;line x1=&quot;3643.94&quot; y1=&quot;1997.02&quot; x2=&quot;3688.00&quot; y2=&quot;1997.02&quot; stroke-linecap=&quot;round&quot; style=&quot;stroke:#008BBC;stroke-width:8.64&quot;/&gt;\n",
       "\t&lt;polygon points=&quot;538.27,1969.67 575.56,1932.37 612.86,1969.67 575.56,2006.96&quot; style=&quot;fill:#008BBC&quot;/&gt;\n",
       "\t&lt;polygon points=&quot;544.38,1969.67 575.56,1938.48 606.75,1969.67 575.56,2000.85&quot; style=&quot;fill:none;stroke:#008BBC;stroke-width:8.64&quot;/&gt;\n",
       "\t&lt;text x=&quot;617.51&quot; y=&quot;1997.68&quot; style=&quot;font-family:&#x27;Helvetica&#x27;;font-size:79.94px;fill:#1A476f&quot;&gt;.08&lt;/text&gt;\n",
       "\t&lt;polygon points=&quot;924.61,1961.13 961.91,1923.83 999.20,1961.13 961.91,1998.42&quot; style=&quot;fill:#008BBC&quot;/&gt;\n",
       "\t&lt;polygon points=&quot;930.72,1961.13 961.91,1929.94 993.09,1961.13 961.91,1992.31&quot; style=&quot;fill:none;stroke:#008BBC;stroke-width:8.64&quot;/&gt;\n",
       "\t&lt;text x=&quot;1003.86&quot; y=&quot;1989.14&quot; style=&quot;font-family:&#x27;Helvetica&#x27;;font-size:79.94px;fill:#1A476f&quot;&gt;.082&lt;/text&gt;\n",
       "\t&lt;polygon points=&quot;1310.84,1972.51 1348.13,1935.22 1385.43,1972.51 1348.13,2009.81&quot; style=&quot;fill:#008BBC&quot;/&gt;\n",
       "\t&lt;polygon points=&quot;1316.95,1972.51 1348.13,1941.33 1379.32,1972.51 1348.13,2003.70&quot; style=&quot;fill:none;stroke:#008BBC;stroke-width:8.64&quot;/&gt;\n",
       "\t&lt;text x=&quot;1390.08&quot; y=&quot;2000.52&quot; style=&quot;font-family:&#x27;Helvetica&#x27;;font-size:79.94px;fill:#1A476f&quot;&gt;.079&lt;/text&gt;\n",
       "\t&lt;polygon points=&quot;1697.19,1854.58 1734.48,1817.28 1771.77,1854.58 1734.48,1891.87&quot; style=&quot;fill:#008BBC&quot;/&gt;\n",
       "\t&lt;polygon points=&quot;1703.30,1854.58 1734.48,1823.39 1765.66,1854.58 1734.48,1885.76&quot; style=&quot;fill:none;stroke:#008BBC;stroke-width:8.64&quot;/&gt;\n",
       "\t&lt;text x=&quot;1776.43&quot; y=&quot;1882.59&quot; style=&quot;font-family:&#x27;Helvetica&#x27;;font-size:79.94px;fill:#1A476f&quot;&gt;.11&lt;/text&gt;\n",
       "\t&lt;polygon points=&quot;2083.41,1799.88 2120.70,1762.58 2158.00,1799.88 2120.70,1837.17&quot; style=&quot;fill:#008BBC&quot;/&gt;\n",
       "\t&lt;polygon points=&quot;2089.52,1799.88 2120.70,1768.69 2151.89,1799.88 2120.70,1831.06&quot; style=&quot;fill:none;stroke:#008BBC;stroke-width:8.64&quot;/&gt;\n",
       "\t&lt;text x=&quot;2162.66&quot; y=&quot;1827.89&quot; style=&quot;font-family:&#x27;Helvetica&#x27;;font-size:79.94px;fill:#1A476f&quot;&gt;.12&lt;/text&gt;\n",
       "\t&lt;polygon points=&quot;2469.76,1663.75 2507.05,1626.45 2544.35,1663.75 2507.05,1701.04&quot; style=&quot;fill:#008BBC&quot;/&gt;\n",
       "\t&lt;polygon points=&quot;2475.87,1663.75 2507.05,1632.56 2538.24,1663.75 2507.05,1694.93&quot; style=&quot;fill:none;stroke:#008BBC;stroke-width:8.64&quot;/&gt;\n",
       "\t&lt;text x=&quot;2549.00&quot; y=&quot;1691.76&quot; style=&quot;font-family:&#x27;Helvetica&#x27;;font-size:79.94px;fill:#1A476f&quot;&gt;.15&lt;/text&gt;\n",
       "\t&lt;polygon points=&quot;2856.10,1565.49 2893.40,1528.19 2930.69,1565.49 2893.40,1602.78&quot; style=&quot;fill:#008BBC&quot;/&gt;\n",
       "\t&lt;polygon points=&quot;2862.21,1565.49 2893.40,1534.30 2924.58,1565.49 2893.40,1596.67&quot; style=&quot;fill:none;stroke:#008BBC;stroke-width:8.64&quot;/&gt;\n",
       "\t&lt;text x=&quot;2935.35&quot; y=&quot;1593.50&quot; style=&quot;font-family:&#x27;Helvetica&#x27;;font-size:79.94px;fill:#1A476f&quot;&gt;.17&lt;/text&gt;\n",
       "\t&lt;polygon points=&quot;3242.33,1196.70 3279.62,1159.41 3316.92,1196.70 3279.62,1233.99&quot; style=&quot;fill:#008BBC&quot;/&gt;\n",
       "\t&lt;polygon points=&quot;3248.44,1196.70 3279.62,1165.51 3310.81,1196.70 3279.62,1227.88&quot; style=&quot;fill:none;stroke:#008BBC;stroke-width:8.64&quot;/&gt;\n",
       "\t&lt;text x=&quot;3321.57&quot; y=&quot;1224.71&quot; style=&quot;font-family:&#x27;Helvetica&#x27;;font-size:79.94px;fill:#1A476f&quot;&gt;.26&lt;/text&gt;\n",
       "\t&lt;polygon points=&quot;3628.68,1283.33 3665.97,1246.03 3703.26,1283.33 3665.97,1320.62&quot; style=&quot;fill:#008BBC&quot;/&gt;\n",
       "\t&lt;polygon points=&quot;3634.78,1283.33 3665.97,1252.14 3697.15,1283.33 3665.97,1314.51&quot; style=&quot;fill:none;stroke:#008BBC;stroke-width:8.64&quot;/&gt;\n",
       "\t&lt;text x=&quot;3707.92&quot; y=&quot;1311.34&quot; style=&quot;font-family:&#x27;Helvetica&#x27;;font-size:79.94px;fill:#1A476f&quot;&gt;.24&lt;/text&gt;\n",
       "\t&lt;line x1=&quot;382.39&quot; y1=&quot;2394.64&quot; x2=&quot;382.39&quot; y2=&quot;419.90&quot; style=&quot;stroke:#000000;stroke-width:5.76&quot;/&gt;\n",
       "\t&lt;line x1=&quot;382.39&quot; y1=&quot;2315.31&quot; x2=&quot;342.42&quot; y2=&quot;2315.31&quot; style=&quot;stroke:#000000;stroke-width:5.76&quot;/&gt;\n",
       "\t&lt;text x=&quot;292.31&quot; y=&quot;2315.31&quot; style=&quot;font-family:&#x27;Helvetica&#x27;;font-size:99.99px;fill:#000000&quot; transform=&quot;rotate(-90 292.31,2315.31)&quot; text-anchor=&quot;middle&quot;&gt;0&lt;/text&gt;\n",
       "\t&lt;line x1=&quot;382.39&quot; y1=&quot;1883.66&quot; x2=&quot;342.42&quot; y2=&quot;1883.66&quot; style=&quot;stroke:#000000;stroke-width:5.76&quot;/&gt;\n",
       "\t&lt;text x=&quot;292.31&quot; y=&quot;1883.66&quot; style=&quot;font-family:&#x27;Helvetica&#x27;;font-size:99.99px;fill:#000000&quot; transform=&quot;rotate(-90 292.31,1883.66)&quot; text-anchor=&quot;middle&quot;&gt;.1&lt;/text&gt;\n",
       "\t&lt;line x1=&quot;382.39&quot; y1=&quot;1452.00&quot; x2=&quot;342.42&quot; y2=&quot;1452.00&quot; style=&quot;stroke:#000000;stroke-width:5.76&quot;/&gt;\n",
       "\t&lt;text x=&quot;292.31&quot; y=&quot;1452.00&quot; style=&quot;font-family:&#x27;Helvetica&#x27;;font-size:99.99px;fill:#000000&quot; transform=&quot;rotate(-90 292.31,1452.00)&quot; text-anchor=&quot;middle&quot;&gt;.2&lt;/text&gt;\n",
       "\t&lt;line x1=&quot;382.39&quot; y1=&quot;1020.35&quot; x2=&quot;342.42&quot; y2=&quot;1020.35&quot; style=&quot;stroke:#000000;stroke-width:5.76&quot;/&gt;\n",
       "\t&lt;text x=&quot;292.31&quot; y=&quot;1020.35&quot; style=&quot;font-family:&#x27;Helvetica&#x27;;font-size:99.99px;fill:#000000&quot; transform=&quot;rotate(-90 292.31,1020.35)&quot; text-anchor=&quot;middle&quot;&gt;.3&lt;/text&gt;\n",
       "\t&lt;line x1=&quot;382.39&quot; y1=&quot;588.82&quot; x2=&quot;342.42&quot; y2=&quot;588.82&quot; style=&quot;stroke:#000000;stroke-width:5.76&quot;/&gt;\n",
       "\t&lt;text x=&quot;292.31&quot; y=&quot;588.82&quot; style=&quot;font-family:&#x27;Helvetica&#x27;;font-size:99.99px;fill:#000000&quot; transform=&quot;rotate(-90 292.31,588.82)&quot; text-anchor=&quot;middle&quot;&gt;.4&lt;/text&gt;\n",
       "\t&lt;text x=&quot;190.71&quot; y=&quot;1407.33&quot; style=&quot;font-family:&#x27;Helvetica&#x27;;font-size:99.99px;fill:#000000&quot; transform=&quot;rotate(-90 190.71,1407.33)&quot; text-anchor=&quot;middle&quot;&gt;Standard deviations&lt;/text&gt;\n",
       "\t&lt;line x1=&quot;382.39&quot; y1=&quot;2394.64&quot; x2=&quot;3859.02&quot; y2=&quot;2394.64&quot; style=&quot;stroke:#000000;stroke-width:5.76&quot;/&gt;\n",
       "\t&lt;line x1=&quot;575.56&quot; y1=&quot;2394.64&quot; x2=&quot;575.56&quot; y2=&quot;2434.73&quot; style=&quot;stroke:#000000;stroke-width:5.76&quot;/&gt;\n",
       "\t&lt;text x=&quot;575.56&quot; y=&quot;2524.59&quot; style=&quot;fill:#000000&quot; text-anchor=&quot;middle&quot;&gt;\n",
       "\t\t&lt;tspan style=&quot;font-family:&#x27;Helvetica&#x27;;font-size:99.99px&quot;&gt;Q&lt;/tspan&gt;\n",
       "\t\t&lt;tspan dy=&quot;14.28px&quot; style=&quot;font-family:&#x27;Helvetica&#x27;;font-size:58.29px&quot;&gt;10&lt;/tspan&gt;\n",
       "\t\t&lt;tspan dy=&quot;-14.28px&quot; style=&quot;font-family:&#x27;Helvetica&#x27;;font-size:99.99px&quot;&gt; &lt;/tspan&gt;\n",
       "\t&lt;/text&gt;\n",
       "\t&lt;line x1=&quot;961.91&quot; y1=&quot;2394.64&quot; x2=&quot;961.91&quot; y2=&quot;2434.73&quot; style=&quot;stroke:#000000;stroke-width:5.76&quot;/&gt;\n",
       "\t&lt;text x=&quot;961.91&quot; y=&quot;2524.59&quot; style=&quot;fill:#000000&quot; text-anchor=&quot;middle&quot;&gt;\n",
       "\t\t&lt;tspan style=&quot;font-family:&#x27;Helvetica&#x27;;font-size:99.99px&quot;&gt;Q&lt;/tspan&gt;\n",
       "\t\t&lt;tspan dy=&quot;14.28px&quot; style=&quot;font-family:&#x27;Helvetica&#x27;;font-size:58.29px&quot;&gt;20&lt;/tspan&gt;\n",
       "\t\t&lt;tspan dy=&quot;-14.28px&quot; style=&quot;font-family:&#x27;Helvetica&#x27;;font-size:99.99px&quot;&gt; &lt;/tspan&gt;\n",
       "\t&lt;/text&gt;\n",
       "\t&lt;line x1=&quot;1348.13&quot; y1=&quot;2394.64&quot; x2=&quot;1348.13&quot; y2=&quot;2434.73&quot; style=&quot;stroke:#000000;stroke-width:5.76&quot;/&gt;\n",
       "\t&lt;text x=&quot;1348.13&quot; y=&quot;2524.59&quot; style=&quot;fill:#000000&quot; text-anchor=&quot;middle&quot;&gt;\n",
       "\t\t&lt;tspan style=&quot;font-family:&#x27;Helvetica&#x27;;font-size:99.99px&quot;&gt;Q&lt;/tspan&gt;\n",
       "\t\t&lt;tspan dy=&quot;14.28px&quot; style=&quot;font-family:&#x27;Helvetica&#x27;;font-size:58.29px&quot;&gt;30&lt;/tspan&gt;\n",
       "\t\t&lt;tspan dy=&quot;-14.28px&quot; style=&quot;font-family:&#x27;Helvetica&#x27;;font-size:99.99px&quot;&gt; &lt;/tspan&gt;\n",
       "\t&lt;/text&gt;\n",
       "\t&lt;line x1=&quot;1734.48&quot; y1=&quot;2394.64&quot; x2=&quot;1734.48&quot; y2=&quot;2434.73&quot; style=&quot;stroke:#000000;stroke-width:5.76&quot;/&gt;\n",
       "\t&lt;text x=&quot;1734.48&quot; y=&quot;2524.59&quot; style=&quot;fill:#000000&quot; text-anchor=&quot;middle&quot;&gt;\n",
       "\t\t&lt;tspan style=&quot;font-family:&#x27;Helvetica&#x27;;font-size:99.99px&quot;&gt;Q&lt;/tspan&gt;\n",
       "\t\t&lt;tspan dy=&quot;14.28px&quot; style=&quot;font-family:&#x27;Helvetica&#x27;;font-size:58.29px&quot;&gt;40&lt;/tspan&gt;\n",
       "\t\t&lt;tspan dy=&quot;-14.28px&quot; style=&quot;font-family:&#x27;Helvetica&#x27;;font-size:99.99px&quot;&gt; &lt;/tspan&gt;\n",
       "\t&lt;/text&gt;\n",
       "\t&lt;line x1=&quot;2120.70&quot; y1=&quot;2394.64&quot; x2=&quot;2120.70&quot; y2=&quot;2434.73&quot; style=&quot;stroke:#000000;stroke-width:5.76&quot;/&gt;\n",
       "\t&lt;text x=&quot;2120.70&quot; y=&quot;2524.59&quot; style=&quot;fill:#000000&quot; text-anchor=&quot;middle&quot;&gt;\n",
       "\t\t&lt;tspan style=&quot;font-family:&#x27;Helvetica&#x27;;font-size:99.99px&quot;&gt;Q&lt;/tspan&gt;\n",
       "\t\t&lt;tspan dy=&quot;14.28px&quot; style=&quot;font-family:&#x27;Helvetica&#x27;;font-size:58.29px&quot;&gt;50&lt;/tspan&gt;\n",
       "\t\t&lt;tspan dy=&quot;-14.28px&quot; style=&quot;font-family:&#x27;Helvetica&#x27;;font-size:99.99px&quot;&gt; &lt;/tspan&gt;\n",
       "\t&lt;/text&gt;\n",
       "\t&lt;line x1=&quot;2507.05&quot; y1=&quot;2394.64&quot; x2=&quot;2507.05&quot; y2=&quot;2434.73&quot; style=&quot;stroke:#000000;stroke-width:5.76&quot;/&gt;\n",
       "\t&lt;text x=&quot;2507.05&quot; y=&quot;2524.59&quot; style=&quot;fill:#000000&quot; text-anchor=&quot;middle&quot;&gt;\n",
       "\t\t&lt;tspan style=&quot;font-family:&#x27;Helvetica&#x27;;font-size:99.99px&quot;&gt;Q&lt;/tspan&gt;\n",
       "\t\t&lt;tspan dy=&quot;14.28px&quot; style=&quot;font-family:&#x27;Helvetica&#x27;;font-size:58.29px&quot;&gt;60&lt;/tspan&gt;\n",
       "\t\t&lt;tspan dy=&quot;-14.28px&quot; style=&quot;font-family:&#x27;Helvetica&#x27;;font-size:99.99px&quot;&gt; &lt;/tspan&gt;\n",
       "\t&lt;/text&gt;\n",
       "\t&lt;line x1=&quot;2893.40&quot; y1=&quot;2394.64&quot; x2=&quot;2893.40&quot; y2=&quot;2434.73&quot; style=&quot;stroke:#000000;stroke-width:5.76&quot;/&gt;\n",
       "\t&lt;text x=&quot;2893.40&quot; y=&quot;2524.59&quot; style=&quot;fill:#000000&quot; text-anchor=&quot;middle&quot;&gt;\n",
       "\t\t&lt;tspan style=&quot;font-family:&#x27;Helvetica&#x27;;font-size:99.99px&quot;&gt;Q&lt;/tspan&gt;\n",
       "\t\t&lt;tspan dy=&quot;14.28px&quot; style=&quot;font-family:&#x27;Helvetica&#x27;;font-size:58.29px&quot;&gt;70&lt;/tspan&gt;\n",
       "\t\t&lt;tspan dy=&quot;-14.28px&quot; style=&quot;font-family:&#x27;Helvetica&#x27;;font-size:99.99px&quot;&gt; &lt;/tspan&gt;\n",
       "\t&lt;/text&gt;\n",
       "\t&lt;line x1=&quot;3279.62&quot; y1=&quot;2394.64&quot; x2=&quot;3279.62&quot; y2=&quot;2434.73&quot; style=&quot;stroke:#000000;stroke-width:5.76&quot;/&gt;\n",
       "\t&lt;text x=&quot;3279.62&quot; y=&quot;2524.59&quot; style=&quot;fill:#000000&quot; text-anchor=&quot;middle&quot;&gt;\n",
       "\t\t&lt;tspan style=&quot;font-family:&#x27;Helvetica&#x27;;font-size:99.99px&quot;&gt;Q&lt;/tspan&gt;\n",
       "\t\t&lt;tspan dy=&quot;14.28px&quot; style=&quot;font-family:&#x27;Helvetica&#x27;;font-size:58.29px&quot;&gt;80&lt;/tspan&gt;\n",
       "\t\t&lt;tspan dy=&quot;-14.28px&quot; style=&quot;font-family:&#x27;Helvetica&#x27;;font-size:99.99px&quot;&gt; &lt;/tspan&gt;\n",
       "\t&lt;/text&gt;\n",
       "\t&lt;line x1=&quot;3665.97&quot; y1=&quot;2394.64&quot; x2=&quot;3665.97&quot; y2=&quot;2434.73&quot; style=&quot;stroke:#000000;stroke-width:5.76&quot;/&gt;\n",
       "\t&lt;text x=&quot;3665.97&quot; y=&quot;2524.59&quot; style=&quot;fill:#000000&quot; text-anchor=&quot;middle&quot;&gt;\n",
       "\t\t&lt;tspan style=&quot;font-family:&#x27;Helvetica&#x27;;font-size:99.99px&quot;&gt;Q&lt;/tspan&gt;\n",
       "\t\t&lt;tspan dy=&quot;14.28px&quot; style=&quot;font-family:&#x27;Helvetica&#x27;;font-size:58.29px&quot;&gt;90&lt;/tspan&gt;\n",
       "\t\t&lt;tspan dy=&quot;-14.28px&quot; style=&quot;font-family:&#x27;Helvetica&#x27;;font-size:99.99px&quot;&gt; &lt;/tspan&gt;\n",
       "\t&lt;/text&gt;\n",
       "\t&lt;text x=&quot;399.71&quot; y=&quot;2657.95&quot; style=&quot;fill:#000000&quot;&gt;\n",
       "\t\t&lt;tspan style=&quot;font-family:&#x27;Helvetica&#x27;;font-weight:bold;font-size:79.94px&quot;&gt;Note:&lt;/tspan&gt;\n",
       "\t\t&lt;tspan style=&quot;font-family:&#x27;Helvetica&#x27;;font-size:79.94px&quot;&gt; Estimates of quantile regressions with strata fixed effects and standard errors clustered&lt;/tspan&gt;\n",
       "\t&lt;/text&gt;\n",
       "\t&lt;text x=&quot;399.71&quot; y=&quot;2737.89&quot; style=&quot;font-family:&#x27;Helvetica&#x27;;font-size:79.94px;fill:#000000&quot;&gt;at the school level. Confidence intervals are 90%.&lt;/text&gt;\n",
       "\t&lt;text x=&quot;2120.70&quot; y=&quot;369.63&quot; style=&quot;font-family:&#x27;Helvetica&#x27;;font-size:110.01px;fill:#000000&quot; text-anchor=&quot;middle&quot;&gt;Average Test Score&lt;/text&gt;\n",
       "\t&lt;text x=&quot;2120.70&quot; y=&quot;215.98&quot; style=&quot;font-family:&#x27;Helvetica&#x27;;font-size:139.96px;fill:#1E2D53&quot; text-anchor=&quot;middle&quot;&gt;Quantile Treatment Effect&lt;/text&gt;\n",
       "&lt;/svg&gt;\n",
       "</body></html>\"></iframe>\n"
      ],
      "text/plain": [
       "This front-end cannot display the desired image type."
      ]
     },
     "metadata": {
      "image/svg+xml": {
       "height": 436,
       "width": 600
      },
      "text/html": {
       "height": 436,
       "width": 600
      }
     },
     "output_type": "display_data"
    }
   ],
   "source": [
    "coefplot `modelsList', keep(*school_treated*) vertical bycoefs mlab format(%9.2g) msymbol(diamond) mcolor(ebblue) ///\n",
    "         levels(`statSignLevel')                ///\n",
    "         ciopts(recast(rcap) lcolor(ebblue))    ///\n",
    "         title(\"Quantile Treatment Effect\")     ///\n",
    "         subtitle(\"Average Test Score\")         ///\n",
    "         ytitle(\"Standard deviations\")          ///\n",
    "         yline(0, lstyle(foreground))           ///\n",
    "         xlab(none) xlab(`quantileLabels', add) ///\n",
    "         note(\"{bf:Note:} Estimates of quantile regressions with strata fixed effects and standard errors clustered\" \"at the school level. Confidence intervals are `statSignLevel'%.\") ///\n",
    "         legend(off) graphregion(color(white))"
   ]
  },
  {
   "cell_type": "markdown",
   "metadata": {},
   "source": [
    "## 4. Store graph in .png format"
   ]
  },
  {
   "cell_type": "code",
   "execution_count": null,
   "metadata": {},
   "outputs": [],
   "source": [
    "gr export \"figure.png\", width(5000) replace"
   ]
  }
 ],
 "metadata": {
  "kernelspec": {
   "display_name": "Stata",
   "language": "stata",
   "name": "stata"
  },
  "language_info": {
   "codemirror_mode": "stata",
   "file_extension": ".do",
   "mimetype": "text/x-stata",
   "name": "stata",
   "version": "15.1"
  }
 },
 "nbformat": 4,
 "nbformat_minor": 2
}
