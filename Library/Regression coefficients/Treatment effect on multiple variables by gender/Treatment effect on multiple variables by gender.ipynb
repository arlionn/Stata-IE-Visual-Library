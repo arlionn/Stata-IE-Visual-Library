{
 "cells": [
  {
   "cell_type": "markdown",
   "metadata": {},
   "source": [
    "## 1. Prepare the Data"
   ]
  },
  {
   "cell_type": "markdown",
   "metadata": {},
   "source": [
    "### 1) Install additional packages required to run the code"
   ]
  },
  {
   "cell_type": "code",
   "execution_count": 32,
   "metadata": {},
   "outputs": [
    {
     "name": "stdout",
     "output_type": "stream",
     "text": [
      "\n",
      "checking reghdfe consistency and verifying not already installed...\n",
      "all files already exist and are up to date.\n",
      "\n",
      "checking ftools consistency and verifying not already installed...\n",
      "all files already exist and are up to date.\n",
      "\n",
      "checking coefplot consistency and verifying not already installed...\n",
      "all files already exist and are up to date.\n"
     ]
    }
   ],
   "source": [
    "ssc   install reghdfe  , replace\n",
    "ssc   install ftools   , replace     //needed for reghdfe to work\n",
    "ssc   install coefplot , replace"
   ]
  },
  {
   "cell_type": "markdown",
   "metadata": {},
   "source": [
    "### 2) Load data"
   ]
  },
  {
   "cell_type": "code",
   "execution_count": 1,
   "metadata": {},
   "outputs": [
    {
     "name": "stdout",
     "output_type": "stream",
     "text": [
      "(Student Standardized Test Scores)\n"
     ]
    }
   ],
   "source": [
    "use \"https://raw.githubusercontent.com/worldbank/Stata-IE-Visual-Library/develop/Library/Regression%20coefficients/Treatment%20effect%20on%20multiple%20variables%20by%20gender/data.dta\", clear"
   ]
  },
  {
   "cell_type": "markdown",
   "metadata": {},
   "source": [
    "## 2. Estimate Coefficients"
   ]
  },
  {
   "cell_type": "markdown",
   "metadata": {},
   "source": [
    "### 1) Set up initial locals"
   ]
  },
  {
   "cell_type": "code",
   "execution_count": 2,
   "metadata": {},
   "outputs": [],
   "source": [
    "local modelList \"\"\n",
    "local statSignLevel = 90"
   ]
  },
  {
   "cell_type": "markdown",
   "metadata": {},
   "source": [
    "### 2) Clear estimates"
   ]
  },
  {
   "cell_type": "code",
   "execution_count": 3,
   "metadata": {},
   "outputs": [],
   "source": [
    "est clear"
   ]
  },
  {
   "cell_type": "markdown",
   "metadata": {},
   "source": [
    "### 3) Loop on different subjects"
   ]
  },
  {
   "cell_type": "code",
   "execution_count": 4,
   "metadata": {},
   "outputs": [],
   "source": [
    "foreach subject in math reading human_sci natural_sci average {\n",
    "\t\teststo `subject'_F :  qui reghdfe student_`subject'_std school_treated \t///\n",
    "\t\t\t\t\t\t   if student_gender == 0\t\t\t\t  \t\t\t\t///\n",
    "\t\t\t\t\t\t   ,  abs(school_strata) cl(school_id)\n",
    "\t\tlocal \tmodelsList `\" `modelsList' ( `subject'_F, ciopts(recast(rcap) lcolor(\"132 4 252\")) mcolor(\"132 4 252\") msymbol(circle)  )    \"'\n",
    "\t\teststo `subject'_M :  qui reghdfe student_`subject'_std school_treated \t///\n",
    "\t\t\t\t\t\t   if student_gender == 1\t\t\t\t  \t\t\t\t///\n",
    "\t\t\t\t\t\t   ,  abs(school_strata) cl(school_id)\n",
    "        local \tmodelsList `\" `modelsList' ( `subject'_M, ciopts(recast(rcap) lcolor(\"4 196 172\")) mcolor(\"4 196 172\") msymbol(diamond) ) || \"'\n",
    "}\n"
   ]
  },
  {
   "cell_type": "markdown",
   "metadata": {},
   "source": [
    "## 3. Plot the graph"
   ]
  },
  {
   "cell_type": "code",
   "execution_count": 5,
   "metadata": {},
   "outputs": [
    {
     "data": {
      "application/pdf": "[encoded data removed]",
      "image/svg+xml": [
       "<?xml version=\"1.0\" encoding=\"UTF-8\" standalone=\"no\"?>\n",
       "<!-- This is a Stata 15.1 generated SVG file (http://www.stata.com) -->\n",
       "\n",
       "<svg version=\"1.1\" width=\"600px\" height=\"436px\" viewBox=\"0 0 3960 2880\" xmlns=\"http://www.w3.org/2000/svg\" xmlns:xlink=\"http://www.w3.org/1999/xlink\">\n",
       "\t<desc>Stata Graph - Graph</desc>\n",
       "\t<rect x=\"0\" y=\"0\" width=\"3960\" height=\"2880\" style=\"fill:#EAF2F3;stroke:none\"/>\n",
       "\t<rect x=\"0.00\" y=\"0.00\" width=\"3959.88\" height=\"2880.00\" style=\"fill:#FFFFFF\"/>\n",
       "\t<rect x=\"2.88\" y=\"2.88\" width=\"3954.12\" height=\"2874.24\" style=\"fill:none;stroke:#FFFFFF;stroke-width:5.76\"/>\n",
       "\t<rect x=\"382.51\" y=\"419.90\" width=\"3476.51\" height=\"1619.32\" style=\"fill:#FFFFFF\"/>\n",
       "\t<rect x=\"385.39\" y=\"422.78\" width=\"3470.75\" height=\"1613.56\" style=\"fill:none;stroke:#FFFFFF;stroke-width:5.76\"/>\n",
       "\t<line x1=\"382.51\" y1=\"1975.85\" x2=\"3859.02\" y2=\"1975.85\" style=\"stroke:#EAF2F3;stroke-width:8.64\"/>\n",
       "\t<line x1=\"382.51\" y1=\"1677.36\" x2=\"3859.02\" y2=\"1677.36\" style=\"stroke:#EAF2F3;stroke-width:8.64\"/>\n",
       "\t<line x1=\"382.51\" y1=\"1378.74\" x2=\"3859.02\" y2=\"1378.74\" style=\"stroke:#EAF2F3;stroke-width:8.64\"/>\n",
       "\t<line x1=\"382.51\" y1=\"1080.25\" x2=\"3859.02\" y2=\"1080.25\" style=\"stroke:#EAF2F3;stroke-width:8.64\"/>\n",
       "\t<line x1=\"382.51\" y1=\"781.75\" x2=\"3859.02\" y2=\"781.75\" style=\"stroke:#EAF2F3;stroke-width:8.64\"/>\n",
       "\t<line x1=\"382.51\" y1=\"483.26\" x2=\"3859.02\" y2=\"483.26\" style=\"stroke:#EAF2F3;stroke-width:8.64\"/>\n",
       "\t<line x1=\"382.51\" y1=\"1677.36\" x2=\"3859.02\" y2=\"1677.36\" style=\"stroke:#000000;stroke-width:5.76\"/>\n",
       "\t<line x1=\"614.29\" y1=\"1641.35\" x2=\"614.29\" y2=\"944.86\" style=\"stroke:#8404FC;stroke-width:8.64\"/>\n",
       "\t<line x1=\"592.27\" y1=\"944.86\" x2=\"636.32\" y2=\"944.86\" stroke-linecap=\"round\" style=\"stroke:#8404FC;stroke-width:8.64\"/>\n",
       "\t<line x1=\"592.27\" y1=\"1641.35\" x2=\"636.32\" y2=\"1641.35\" stroke-linecap=\"round\" style=\"stroke:#8404FC;stroke-width:8.64\"/>\n",
       "\t<line x1=\"1309.52\" y1=\"1718.20\" x2=\"1309.52\" y2=\"957.36\" style=\"stroke:#8404FC;stroke-width:8.64\"/>\n",
       "\t<line x1=\"1287.49\" y1=\"957.36\" x2=\"1331.55\" y2=\"957.36\" stroke-linecap=\"round\" style=\"stroke:#8404FC;stroke-width:8.64\"/>\n",
       "\t<line x1=\"1287.49\" y1=\"1718.20\" x2=\"1331.55\" y2=\"1718.20\" stroke-linecap=\"round\" style=\"stroke:#8404FC;stroke-width:8.64\"/>\n",
       "\t<line x1=\"2004.87\" y1=\"1758.79\" x2=\"2004.87\" y2=\"1048.32\" style=\"stroke:#8404FC;stroke-width:8.64\"/>\n",
       "\t<line x1=\"1982.85\" y1=\"1048.32\" x2=\"2026.90\" y2=\"1048.32\" stroke-linecap=\"round\" style=\"stroke:#8404FC;stroke-width:8.64\"/>\n",
       "\t<line x1=\"1982.85\" y1=\"1758.79\" x2=\"2026.90\" y2=\"1758.79\" stroke-linecap=\"round\" style=\"stroke:#8404FC;stroke-width:8.64\"/>\n",
       "\t<line x1=\"2700.22\" y1=\"1609.30\" x2=\"2700.22\" y2=\"945.11\" style=\"stroke:#8404FC;stroke-width:8.64\"/>\n",
       "\t<line x1=\"2678.20\" y1=\"945.11\" x2=\"2722.25\" y2=\"945.11\" stroke-linecap=\"round\" style=\"stroke:#8404FC;stroke-width:8.64\"/>\n",
       "\t<line x1=\"2678.20\" y1=\"1609.30\" x2=\"2722.25\" y2=\"1609.30\" stroke-linecap=\"round\" style=\"stroke:#8404FC;stroke-width:8.64\"/>\n",
       "\t<line x1=\"3395.58\" y1=\"1632.93\" x2=\"3395.58\" y2=\"1006.37\" style=\"stroke:#8404FC;stroke-width:8.64\"/>\n",
       "\t<line x1=\"3373.55\" y1=\"1006.37\" x2=\"3417.60\" y2=\"1006.37\" stroke-linecap=\"round\" style=\"stroke:#8404FC;stroke-width:8.64\"/>\n",
       "\t<line x1=\"3373.55\" y1=\"1632.93\" x2=\"3417.60\" y2=\"1632.93\" stroke-linecap=\"round\" style=\"stroke:#8404FC;stroke-width:8.64\"/>\n",
       "\t<circle cx=\"614.29\" cy=\"1293.10\" r=\"26.35\" style=\"fill:#8404FC\"/>\n",
       "\t<circle cx=\"614.29\" cy=\"1293.10\" r=\"22.03\" style=\"fill:none;stroke:#8404FC;stroke-width:8.64\"/>\n",
       "\t<text x=\"665.03\" y=\"1321.12\" style=\"font-family:'Helvetica';font-size:79.94px;fill:#000000\">.13</text>\n",
       "\t<circle cx=\"1309.52\" cy=\"1337.78\" r=\"26.35\" style=\"fill:#8404FC\"/>\n",
       "\t<circle cx=\"1309.52\" cy=\"1337.78\" r=\"22.03\" style=\"fill:none;stroke:#8404FC;stroke-width:8.64\"/>\n",
       "\t<text x=\"1360.26\" y=\"1365.79\" style=\"font-family:'Helvetica';font-size:79.94px;fill:#000000\">.11</text>\n",
       "\t<circle cx=\"2004.87\" cy=\"1403.62\" r=\"26.35\" style=\"fill:#8404FC\"/>\n",
       "\t<circle cx=\"2004.87\" cy=\"1403.62\" r=\"22.03\" style=\"fill:none;stroke:#8404FC;stroke-width:8.64\"/>\n",
       "\t<text x=\"2055.61\" y=\"1431.63\" style=\"font-family:'Helvetica';font-size:79.94px;fill:#000000\">.092</text>\n",
       "\t<circle cx=\"2700.22\" cy=\"1277.14\" r=\"26.35\" style=\"fill:#8404FC\"/>\n",
       "\t<circle cx=\"2700.22\" cy=\"1277.14\" r=\"22.03\" style=\"fill:none;stroke:#8404FC;stroke-width:8.64\"/>\n",
       "\t<text x=\"2750.96\" y=\"1305.15\" style=\"font-family:'Helvetica';font-size:79.94px;fill:#000000\">.13</text>\n",
       "\t<circle cx=\"3395.58\" cy=\"1319.71\" r=\"26.35\" style=\"fill:#8404FC\"/>\n",
       "\t<circle cx=\"3395.58\" cy=\"1319.71\" r=\"22.03\" style=\"fill:none;stroke:#8404FC;stroke-width:8.64\"/>\n",
       "\t<text x=\"3446.31\" y=\"1347.72\" style=\"font-family:'Helvetica';font-size:79.94px;fill:#000000\">.12</text>\n",
       "\t<line x1=\"846.08\" y1=\"1414.51\" x2=\"846.08\" y2=\"572.98\" style=\"stroke:#04C4AC;stroke-width:8.64\"/>\n",
       "\t<line x1=\"824.05\" y1=\"572.98\" x2=\"868.11\" y2=\"572.98\" stroke-linecap=\"round\" style=\"stroke:#04C4AC;stroke-width:8.64\"/>\n",
       "\t<line x1=\"824.05\" y1=\"1414.51\" x2=\"868.11\" y2=\"1414.51\" stroke-linecap=\"round\" style=\"stroke:#04C4AC;stroke-width:8.64\"/>\n",
       "\t<line x1=\"1541.31\" y1=\"1498.16\" x2=\"1541.31\" y2=\"708.37\" style=\"stroke:#04C4AC;stroke-width:8.64\"/>\n",
       "\t<line x1=\"1519.28\" y1=\"708.37\" x2=\"1563.33\" y2=\"708.37\" stroke-linecap=\"round\" style=\"stroke:#04C4AC;stroke-width:8.64\"/>\n",
       "\t<line x1=\"1519.28\" y1=\"1498.16\" x2=\"1563.33\" y2=\"1498.16\" stroke-linecap=\"round\" style=\"stroke:#04C4AC;stroke-width:8.64\"/>\n",
       "\t<line x1=\"2236.66\" y1=\"1676.25\" x2=\"2236.66\" y2=\"1124.43\" style=\"stroke:#04C4AC;stroke-width:8.64\"/>\n",
       "\t<line x1=\"2214.63\" y1=\"1124.43\" x2=\"2258.68\" y2=\"1124.43\" stroke-linecap=\"round\" style=\"stroke:#04C4AC;stroke-width:8.64\"/>\n",
       "\t<line x1=\"2214.63\" y1=\"1676.25\" x2=\"2258.68\" y2=\"1676.25\" stroke-linecap=\"round\" style=\"stroke:#04C4AC;stroke-width:8.64\"/>\n",
       "\t<line x1=\"2932.01\" y1=\"1680.83\" x2=\"2932.01\" y2=\"987.80\" style=\"stroke:#04C4AC;stroke-width:8.64\"/>\n",
       "\t<line x1=\"2909.98\" y1=\"987.80\" x2=\"2954.04\" y2=\"987.80\" stroke-linecap=\"round\" style=\"stroke:#04C4AC;stroke-width:8.64\"/>\n",
       "\t<line x1=\"2909.98\" y1=\"1680.83\" x2=\"2954.04\" y2=\"1680.83\" stroke-linecap=\"round\" style=\"stroke:#04C4AC;stroke-width:8.64\"/>\n",
       "\t<line x1=\"3627.36\" y1=\"1505.22\" x2=\"3627.36\" y2=\"866.03\" style=\"stroke:#04C4AC;stroke-width:8.64\"/>\n",
       "\t<line x1=\"3605.33\" y1=\"866.03\" x2=\"3649.39\" y2=\"866.03\" stroke-linecap=\"round\" style=\"stroke:#04C4AC;stroke-width:8.64\"/>\n",
       "\t<line x1=\"3605.33\" y1=\"1505.22\" x2=\"3649.39\" y2=\"1505.22\" stroke-linecap=\"round\" style=\"stroke:#04C4AC;stroke-width:8.64\"/>\n",
       "\t<polygon points=\"808.78,993.74 846.08,956.45 883.37,993.74 846.08,1031.04\" style=\"fill:#04C4AC\"/>\n",
       "\t<polygon points=\"814.89,993.74 846.08,962.56 877.26,993.74 846.08,1024.93\" style=\"fill:none;stroke:#04C4AC;stroke-width:8.64\"/>\n",
       "\t<text x=\"896.82\" y=\"1021.76\" style=\"font-family:'Helvetica';font-size:79.94px;fill:#000000\">.23</text>\n",
       "\t<polygon points=\"1504.01,1103.27 1541.31,1065.97 1578.60,1103.27 1541.31,1140.56\" style=\"fill:#04C4AC\"/>\n",
       "\t<polygon points=\"1510.12,1103.27 1541.31,1072.08 1572.49,1103.27 1541.31,1134.45\" style=\"fill:none;stroke:#04C4AC;stroke-width:8.64\"/>\n",
       "\t<text x=\"1592.04\" y=\"1131.28\" style=\"font-family:'Helvetica';font-size:79.94px;fill:#000000\">.19</text>\n",
       "\t<polygon points=\"2199.36,1400.40 2236.66,1363.10 2273.95,1400.40 2236.66,1437.69\" style=\"fill:#04C4AC\"/>\n",
       "\t<polygon points=\"2205.47,1400.40 2236.66,1369.21 2267.84,1400.40 2236.66,1431.58\" style=\"fill:none;stroke:#04C4AC;stroke-width:8.64\"/>\n",
       "\t<text x=\"2287.39\" y=\"1428.41\" style=\"font-family:'Helvetica';font-size:79.94px;fill:#000000\">.093</text>\n",
       "\t<polygon points=\"2894.71,1334.31 2932.01,1297.02 2969.30,1334.31 2932.01,1371.61\" style=\"fill:#04C4AC\"/>\n",
       "\t<polygon points=\"2900.82,1334.31 2932.01,1303.13 2963.19,1334.31 2932.01,1365.50\" style=\"fill:none;stroke:#04C4AC;stroke-width:8.64\"/>\n",
       "\t<text x=\"2982.75\" y=\"1362.33\" style=\"font-family:'Helvetica';font-size:79.94px;fill:#000000\">.11</text>\n",
       "\t<polygon points=\"3590.07,1185.69 3627.36,1148.39 3664.65,1185.69 3627.36,1222.98\" style=\"fill:#04C4AC\"/>\n",
       "\t<polygon points=\"3596.18,1185.69 3627.36,1154.50 3658.55,1185.69 3627.36,1216.87\" style=\"fill:none;stroke:#04C4AC;stroke-width:8.64\"/>\n",
       "\t<text x=\"3678.10\" y=\"1213.70\" style=\"font-family:'Helvetica';font-size:79.94px;fill:#000000\">.16</text>\n",
       "\t<line x1=\"382.51\" y1=\"2039.22\" x2=\"382.51\" y2=\"419.90\" style=\"stroke:#000000;stroke-width:5.76\"/>\n",
       "\t<line x1=\"382.51\" y1=\"1975.85\" x2=\"342.54\" y2=\"1975.85\" style=\"stroke:#000000;stroke-width:5.76\"/>\n",
       "\t<text x=\"292.43\" y=\"1975.85\" style=\"font-family:'Helvetica';font-size:99.99px;fill:#000000\" transform=\"rotate(-90 292.43,1975.85)\" text-anchor=\"middle\">-.1</text>\n",
       "\t<line x1=\"382.51\" y1=\"1677.36\" x2=\"342.54\" y2=\"1677.36\" style=\"stroke:#000000;stroke-width:5.76\"/>\n",
       "\t<text x=\"292.43\" y=\"1677.36\" style=\"font-family:'Helvetica';font-size:99.99px;fill:#000000\" transform=\"rotate(-90 292.43,1677.36)\" text-anchor=\"middle\">0</text>\n",
       "\t<line x1=\"382.51\" y1=\"1378.74\" x2=\"342.54\" y2=\"1378.74\" style=\"stroke:#000000;stroke-width:5.76\"/>\n",
       "\t<text x=\"292.43\" y=\"1378.74\" style=\"font-family:'Helvetica';font-size:99.99px;fill:#000000\" transform=\"rotate(-90 292.43,1378.74)\" text-anchor=\"middle\">.1</text>\n",
       "\t<line x1=\"382.51\" y1=\"1080.25\" x2=\"342.54\" y2=\"1080.25\" style=\"stroke:#000000;stroke-width:5.76\"/>\n",
       "\t<text x=\"292.43\" y=\"1080.25\" style=\"font-family:'Helvetica';font-size:99.99px;fill:#000000\" transform=\"rotate(-90 292.43,1080.25)\" text-anchor=\"middle\">.2</text>\n",
       "\t<line x1=\"382.51\" y1=\"781.75\" x2=\"342.54\" y2=\"781.75\" style=\"stroke:#000000;stroke-width:5.76\"/>\n",
       "\t<text x=\"292.43\" y=\"781.75\" style=\"font-family:'Helvetica';font-size:99.99px;fill:#000000\" transform=\"rotate(-90 292.43,781.75)\" text-anchor=\"middle\">.3</text>\n",
       "\t<line x1=\"382.51\" y1=\"483.26\" x2=\"342.54\" y2=\"483.26\" style=\"stroke:#000000;stroke-width:5.76\"/>\n",
       "\t<text x=\"292.43\" y=\"483.26\" style=\"font-family:'Helvetica';font-size:99.99px;fill:#000000\" transform=\"rotate(-90 292.43,483.26)\" text-anchor=\"middle\">.4</text>\n",
       "\t<text x=\"190.71\" y=\"1229.49\" style=\"font-family:'Helvetica';font-size:99.99px;fill:#000000\" transform=\"rotate(-90 190.71,1229.49)\" text-anchor=\"middle\">Standard deviations</text>\n",
       "\t<line x1=\"382.51\" y1=\"2039.22\" x2=\"3859.02\" y2=\"2039.22\" style=\"stroke:#000000;stroke-width:5.76\"/>\n",
       "\t<line x1=\"730.12\" y1=\"2039.22\" x2=\"730.12\" y2=\"2079.19\" style=\"stroke:#000000;stroke-width:5.76\"/>\n",
       "\t<text x=\"730.12\" y=\"2169.05\" style=\"font-family:'Helvetica';font-size:99.99px;fill:#000000\" text-anchor=\"middle\">Math</text>\n",
       "\t<line x1=\"1425.48\" y1=\"2039.22\" x2=\"1425.48\" y2=\"2079.19\" style=\"stroke:#000000;stroke-width:5.76\"/>\n",
       "\t<text x=\"1425.48\" y=\"2269.04\" style=\"font-family:'Helvetica';font-size:99.99px;fill:#000000\" text-anchor=\"middle\">Reading</text>\n",
       "\t<line x1=\"2120.83\" y1=\"2039.22\" x2=\"2120.83\" y2=\"2079.19\" style=\"stroke:#000000;stroke-width:5.76\"/>\n",
       "\t<text x=\"2120.83\" y=\"2169.05\" style=\"font-family:'Helvetica';font-size:99.99px;fill:#000000\" text-anchor=\"middle\">Human Science</text>\n",
       "\t<line x1=\"2816.05\" y1=\"2039.22\" x2=\"2816.05\" y2=\"2079.19\" style=\"stroke:#000000;stroke-width:5.76\"/>\n",
       "\t<text x=\"2816.05\" y=\"2269.04\" style=\"font-family:'Helvetica';font-size:99.99px;fill:#000000\" text-anchor=\"middle\">Natural Science</text>\n",
       "\t<line x1=\"3511.41\" y1=\"2039.22\" x2=\"3511.41\" y2=\"2079.19\" style=\"stroke:#000000;stroke-width:5.76\"/>\n",
       "\t<text x=\"3511.41\" y=\"2169.05\" style=\"font-family:'Helvetica';font-size:99.99px;fill:#000000\" text-anchor=\"middle\">Average</text>\n",
       "\t<rect x=\"1623.23\" y=\"2363.70\" width=\"995.07\" height=\"186.37\" style=\"fill:#FFFFFF\"/>\n",
       "\t<rect x=\"1626.11\" y=\"2366.58\" width=\"989.31\" height=\"180.61\" style=\"fill:none;stroke:#000000;stroke-width:5.76\"/>\n",
       "\t<circle cx=\"1688.44\" cy=\"2456.89\" r=\"26.35\" style=\"fill:#8404FC\"/>\n",
       "\t<circle cx=\"1688.44\" cy=\"2456.89\" r=\"22.03\" style=\"fill:none;stroke:#8404FC;stroke-width:8.64\"/>\n",
       "\t<polygon points=\"2235.37,2456.89 2272.67,2419.59 2309.96,2456.89 2272.67,2494.18\" style=\"fill:#04C4AC\"/>\n",
       "\t<polygon points=\"2241.48,2456.89 2272.67,2425.70 2303.85,2456.89 2272.67,2488.07\" style=\"fill:none;stroke:#04C4AC;stroke-width:8.64\"/>\n",
       "\t<text x=\"1770.49\" y=\"2491.91\" style=\"font-family:'Helvetica';font-size:99.99px;fill:#000000\">Female</text>\n",
       "\t<text x=\"2354.59\" y=\"2491.91\" style=\"font-family:'Helvetica';font-size:99.99px;fill:#000000\">Male</text>\n",
       "\t<text x=\"399.71\" y=\"2657.95\" style=\"fill:#000000\">\n",
       "\t\t<tspan style=\"font-family:'Helvetica';font-weight:bold;font-size:79.94px\">Note:</tspan>\n",
       "\t\t<tspan style=\"font-family:'Helvetica';font-size:79.94px\"> Point estimates with 90% confidence intervals from regressions with strata fixed effects</tspan>\n",
       "\t</text>\n",
       "\t<text x=\"399.71\" y=\"2737.89\" style=\"font-family:'Helvetica';font-size:79.94px;fill:#000000\">and standard errors clustered at the school level.</text>\n",
       "\t<text x=\"2120.83\" y=\"369.63\" style=\"font-family:'Helvetica';font-size:110.01px;fill:#000000\" text-anchor=\"middle\">Test Scores</text>\n",
       "\t<text x=\"2120.83\" y=\"215.98\" style=\"font-family:'Helvetica';font-size:139.96px;fill:#1E2D53\" text-anchor=\"middle\">Treatment Effect</text>\n",
       "</svg>\n"
      ],
      "text/html": [
       "                <iframe frameborder=\"0\" scrolling=\"no\" height=\"436\" width=\"600\"                srcdoc=\"<html><body>&lt;?xml version=&quot;1.0&quot; encoding=&quot;UTF-8&quot; standalone=&quot;no&quot;?&gt;\n",
       "&lt;!-- This is a Stata 15.1 generated SVG file (http://www.stata.com) --&gt;\n",
       "\n",
       "&lt;svg version=&quot;1.1&quot; width=&quot;600px&quot; height=&quot;436px&quot; viewBox=&quot;0 0 3960 2880&quot; xmlns=&quot;http://www.w3.org/2000/svg&quot; xmlns:xlink=&quot;http://www.w3.org/1999/xlink&quot;&gt;\n",
       "\t&lt;desc&gt;Stata Graph - Graph&lt;/desc&gt;\n",
       "\t&lt;rect x=&quot;0&quot; y=&quot;0&quot; width=&quot;3960&quot; height=&quot;2880&quot; style=&quot;fill:#EAF2F3;stroke:none&quot;/&gt;\n",
       "\t&lt;rect x=&quot;0.00&quot; y=&quot;0.00&quot; width=&quot;3959.88&quot; height=&quot;2880.00&quot; style=&quot;fill:#FFFFFF&quot;/&gt;\n",
       "\t&lt;rect x=&quot;2.88&quot; y=&quot;2.88&quot; width=&quot;3954.12&quot; height=&quot;2874.24&quot; style=&quot;fill:none;stroke:#FFFFFF;stroke-width:5.76&quot;/&gt;\n",
       "\t&lt;rect x=&quot;382.51&quot; y=&quot;419.90&quot; width=&quot;3476.51&quot; height=&quot;1619.32&quot; style=&quot;fill:#FFFFFF&quot;/&gt;\n",
       "\t&lt;rect x=&quot;385.39&quot; y=&quot;422.78&quot; width=&quot;3470.75&quot; height=&quot;1613.56&quot; style=&quot;fill:none;stroke:#FFFFFF;stroke-width:5.76&quot;/&gt;\n",
       "\t&lt;line x1=&quot;382.51&quot; y1=&quot;1975.85&quot; x2=&quot;3859.02&quot; y2=&quot;1975.85&quot; style=&quot;stroke:#EAF2F3;stroke-width:8.64&quot;/&gt;\n",
       "\t&lt;line x1=&quot;382.51&quot; y1=&quot;1677.36&quot; x2=&quot;3859.02&quot; y2=&quot;1677.36&quot; style=&quot;stroke:#EAF2F3;stroke-width:8.64&quot;/&gt;\n",
       "\t&lt;line x1=&quot;382.51&quot; y1=&quot;1378.74&quot; x2=&quot;3859.02&quot; y2=&quot;1378.74&quot; style=&quot;stroke:#EAF2F3;stroke-width:8.64&quot;/&gt;\n",
       "\t&lt;line x1=&quot;382.51&quot; y1=&quot;1080.25&quot; x2=&quot;3859.02&quot; y2=&quot;1080.25&quot; style=&quot;stroke:#EAF2F3;stroke-width:8.64&quot;/&gt;\n",
       "\t&lt;line x1=&quot;382.51&quot; y1=&quot;781.75&quot; x2=&quot;3859.02&quot; y2=&quot;781.75&quot; style=&quot;stroke:#EAF2F3;stroke-width:8.64&quot;/&gt;\n",
       "\t&lt;line x1=&quot;382.51&quot; y1=&quot;483.26&quot; x2=&quot;3859.02&quot; y2=&quot;483.26&quot; style=&quot;stroke:#EAF2F3;stroke-width:8.64&quot;/&gt;\n",
       "\t&lt;line x1=&quot;382.51&quot; y1=&quot;1677.36&quot; x2=&quot;3859.02&quot; y2=&quot;1677.36&quot; style=&quot;stroke:#000000;stroke-width:5.76&quot;/&gt;\n",
       "\t&lt;line x1=&quot;614.29&quot; y1=&quot;1641.35&quot; x2=&quot;614.29&quot; y2=&quot;944.86&quot; style=&quot;stroke:#8404FC;stroke-width:8.64&quot;/&gt;\n",
       "\t&lt;line x1=&quot;592.27&quot; y1=&quot;944.86&quot; x2=&quot;636.32&quot; y2=&quot;944.86&quot; stroke-linecap=&quot;round&quot; style=&quot;stroke:#8404FC;stroke-width:8.64&quot;/&gt;\n",
       "\t&lt;line x1=&quot;592.27&quot; y1=&quot;1641.35&quot; x2=&quot;636.32&quot; y2=&quot;1641.35&quot; stroke-linecap=&quot;round&quot; style=&quot;stroke:#8404FC;stroke-width:8.64&quot;/&gt;\n",
       "\t&lt;line x1=&quot;1309.52&quot; y1=&quot;1718.20&quot; x2=&quot;1309.52&quot; y2=&quot;957.36&quot; style=&quot;stroke:#8404FC;stroke-width:8.64&quot;/&gt;\n",
       "\t&lt;line x1=&quot;1287.49&quot; y1=&quot;957.36&quot; x2=&quot;1331.55&quot; y2=&quot;957.36&quot; stroke-linecap=&quot;round&quot; style=&quot;stroke:#8404FC;stroke-width:8.64&quot;/&gt;\n",
       "\t&lt;line x1=&quot;1287.49&quot; y1=&quot;1718.20&quot; x2=&quot;1331.55&quot; y2=&quot;1718.20&quot; stroke-linecap=&quot;round&quot; style=&quot;stroke:#8404FC;stroke-width:8.64&quot;/&gt;\n",
       "\t&lt;line x1=&quot;2004.87&quot; y1=&quot;1758.79&quot; x2=&quot;2004.87&quot; y2=&quot;1048.32&quot; style=&quot;stroke:#8404FC;stroke-width:8.64&quot;/&gt;\n",
       "\t&lt;line x1=&quot;1982.85&quot; y1=&quot;1048.32&quot; x2=&quot;2026.90&quot; y2=&quot;1048.32&quot; stroke-linecap=&quot;round&quot; style=&quot;stroke:#8404FC;stroke-width:8.64&quot;/&gt;\n",
       "\t&lt;line x1=&quot;1982.85&quot; y1=&quot;1758.79&quot; x2=&quot;2026.90&quot; y2=&quot;1758.79&quot; stroke-linecap=&quot;round&quot; style=&quot;stroke:#8404FC;stroke-width:8.64&quot;/&gt;\n",
       "\t&lt;line x1=&quot;2700.22&quot; y1=&quot;1609.30&quot; x2=&quot;2700.22&quot; y2=&quot;945.11&quot; style=&quot;stroke:#8404FC;stroke-width:8.64&quot;/&gt;\n",
       "\t&lt;line x1=&quot;2678.20&quot; y1=&quot;945.11&quot; x2=&quot;2722.25&quot; y2=&quot;945.11&quot; stroke-linecap=&quot;round&quot; style=&quot;stroke:#8404FC;stroke-width:8.64&quot;/&gt;\n",
       "\t&lt;line x1=&quot;2678.20&quot; y1=&quot;1609.30&quot; x2=&quot;2722.25&quot; y2=&quot;1609.30&quot; stroke-linecap=&quot;round&quot; style=&quot;stroke:#8404FC;stroke-width:8.64&quot;/&gt;\n",
       "\t&lt;line x1=&quot;3395.58&quot; y1=&quot;1632.93&quot; x2=&quot;3395.58&quot; y2=&quot;1006.37&quot; style=&quot;stroke:#8404FC;stroke-width:8.64&quot;/&gt;\n",
       "\t&lt;line x1=&quot;3373.55&quot; y1=&quot;1006.37&quot; x2=&quot;3417.60&quot; y2=&quot;1006.37&quot; stroke-linecap=&quot;round&quot; style=&quot;stroke:#8404FC;stroke-width:8.64&quot;/&gt;\n",
       "\t&lt;line x1=&quot;3373.55&quot; y1=&quot;1632.93&quot; x2=&quot;3417.60&quot; y2=&quot;1632.93&quot; stroke-linecap=&quot;round&quot; style=&quot;stroke:#8404FC;stroke-width:8.64&quot;/&gt;\n",
       "\t&lt;circle cx=&quot;614.29&quot; cy=&quot;1293.10&quot; r=&quot;26.35&quot; style=&quot;fill:#8404FC&quot;/&gt;\n",
       "\t&lt;circle cx=&quot;614.29&quot; cy=&quot;1293.10&quot; r=&quot;22.03&quot; style=&quot;fill:none;stroke:#8404FC;stroke-width:8.64&quot;/&gt;\n",
       "\t&lt;text x=&quot;665.03&quot; y=&quot;1321.12&quot; style=&quot;font-family:&#x27;Helvetica&#x27;;font-size:79.94px;fill:#000000&quot;&gt;.13&lt;/text&gt;\n",
       "\t&lt;circle cx=&quot;1309.52&quot; cy=&quot;1337.78&quot; r=&quot;26.35&quot; style=&quot;fill:#8404FC&quot;/&gt;\n",
       "\t&lt;circle cx=&quot;1309.52&quot; cy=&quot;1337.78&quot; r=&quot;22.03&quot; style=&quot;fill:none;stroke:#8404FC;stroke-width:8.64&quot;/&gt;\n",
       "\t&lt;text x=&quot;1360.26&quot; y=&quot;1365.79&quot; style=&quot;font-family:&#x27;Helvetica&#x27;;font-size:79.94px;fill:#000000&quot;&gt;.11&lt;/text&gt;\n",
       "\t&lt;circle cx=&quot;2004.87&quot; cy=&quot;1403.62&quot; r=&quot;26.35&quot; style=&quot;fill:#8404FC&quot;/&gt;\n",
       "\t&lt;circle cx=&quot;2004.87&quot; cy=&quot;1403.62&quot; r=&quot;22.03&quot; style=&quot;fill:none;stroke:#8404FC;stroke-width:8.64&quot;/&gt;\n",
       "\t&lt;text x=&quot;2055.61&quot; y=&quot;1431.63&quot; style=&quot;font-family:&#x27;Helvetica&#x27;;font-size:79.94px;fill:#000000&quot;&gt;.092&lt;/text&gt;\n",
       "\t&lt;circle cx=&quot;2700.22&quot; cy=&quot;1277.14&quot; r=&quot;26.35&quot; style=&quot;fill:#8404FC&quot;/&gt;\n",
       "\t&lt;circle cx=&quot;2700.22&quot; cy=&quot;1277.14&quot; r=&quot;22.03&quot; style=&quot;fill:none;stroke:#8404FC;stroke-width:8.64&quot;/&gt;\n",
       "\t&lt;text x=&quot;2750.96&quot; y=&quot;1305.15&quot; style=&quot;font-family:&#x27;Helvetica&#x27;;font-size:79.94px;fill:#000000&quot;&gt;.13&lt;/text&gt;\n",
       "\t&lt;circle cx=&quot;3395.58&quot; cy=&quot;1319.71&quot; r=&quot;26.35&quot; style=&quot;fill:#8404FC&quot;/&gt;\n",
       "\t&lt;circle cx=&quot;3395.58&quot; cy=&quot;1319.71&quot; r=&quot;22.03&quot; style=&quot;fill:none;stroke:#8404FC;stroke-width:8.64&quot;/&gt;\n",
       "\t&lt;text x=&quot;3446.31&quot; y=&quot;1347.72&quot; style=&quot;font-family:&#x27;Helvetica&#x27;;font-size:79.94px;fill:#000000&quot;&gt;.12&lt;/text&gt;\n",
       "\t&lt;line x1=&quot;846.08&quot; y1=&quot;1414.51&quot; x2=&quot;846.08&quot; y2=&quot;572.98&quot; style=&quot;stroke:#04C4AC;stroke-width:8.64&quot;/&gt;\n",
       "\t&lt;line x1=&quot;824.05&quot; y1=&quot;572.98&quot; x2=&quot;868.11&quot; y2=&quot;572.98&quot; stroke-linecap=&quot;round&quot; style=&quot;stroke:#04C4AC;stroke-width:8.64&quot;/&gt;\n",
       "\t&lt;line x1=&quot;824.05&quot; y1=&quot;1414.51&quot; x2=&quot;868.11&quot; y2=&quot;1414.51&quot; stroke-linecap=&quot;round&quot; style=&quot;stroke:#04C4AC;stroke-width:8.64&quot;/&gt;\n",
       "\t&lt;line x1=&quot;1541.31&quot; y1=&quot;1498.16&quot; x2=&quot;1541.31&quot; y2=&quot;708.37&quot; style=&quot;stroke:#04C4AC;stroke-width:8.64&quot;/&gt;\n",
       "\t&lt;line x1=&quot;1519.28&quot; y1=&quot;708.37&quot; x2=&quot;1563.33&quot; y2=&quot;708.37&quot; stroke-linecap=&quot;round&quot; style=&quot;stroke:#04C4AC;stroke-width:8.64&quot;/&gt;\n",
       "\t&lt;line x1=&quot;1519.28&quot; y1=&quot;1498.16&quot; x2=&quot;1563.33&quot; y2=&quot;1498.16&quot; stroke-linecap=&quot;round&quot; style=&quot;stroke:#04C4AC;stroke-width:8.64&quot;/&gt;\n",
       "\t&lt;line x1=&quot;2236.66&quot; y1=&quot;1676.25&quot; x2=&quot;2236.66&quot; y2=&quot;1124.43&quot; style=&quot;stroke:#04C4AC;stroke-width:8.64&quot;/&gt;\n",
       "\t&lt;line x1=&quot;2214.63&quot; y1=&quot;1124.43&quot; x2=&quot;2258.68&quot; y2=&quot;1124.43&quot; stroke-linecap=&quot;round&quot; style=&quot;stroke:#04C4AC;stroke-width:8.64&quot;/&gt;\n",
       "\t&lt;line x1=&quot;2214.63&quot; y1=&quot;1676.25&quot; x2=&quot;2258.68&quot; y2=&quot;1676.25&quot; stroke-linecap=&quot;round&quot; style=&quot;stroke:#04C4AC;stroke-width:8.64&quot;/&gt;\n",
       "\t&lt;line x1=&quot;2932.01&quot; y1=&quot;1680.83&quot; x2=&quot;2932.01&quot; y2=&quot;987.80&quot; style=&quot;stroke:#04C4AC;stroke-width:8.64&quot;/&gt;\n",
       "\t&lt;line x1=&quot;2909.98&quot; y1=&quot;987.80&quot; x2=&quot;2954.04&quot; y2=&quot;987.80&quot; stroke-linecap=&quot;round&quot; style=&quot;stroke:#04C4AC;stroke-width:8.64&quot;/&gt;\n",
       "\t&lt;line x1=&quot;2909.98&quot; y1=&quot;1680.83&quot; x2=&quot;2954.04&quot; y2=&quot;1680.83&quot; stroke-linecap=&quot;round&quot; style=&quot;stroke:#04C4AC;stroke-width:8.64&quot;/&gt;\n",
       "\t&lt;line x1=&quot;3627.36&quot; y1=&quot;1505.22&quot; x2=&quot;3627.36&quot; y2=&quot;866.03&quot; style=&quot;stroke:#04C4AC;stroke-width:8.64&quot;/&gt;\n",
       "\t&lt;line x1=&quot;3605.33&quot; y1=&quot;866.03&quot; x2=&quot;3649.39&quot; y2=&quot;866.03&quot; stroke-linecap=&quot;round&quot; style=&quot;stroke:#04C4AC;stroke-width:8.64&quot;/&gt;\n",
       "\t&lt;line x1=&quot;3605.33&quot; y1=&quot;1505.22&quot; x2=&quot;3649.39&quot; y2=&quot;1505.22&quot; stroke-linecap=&quot;round&quot; style=&quot;stroke:#04C4AC;stroke-width:8.64&quot;/&gt;\n",
       "\t&lt;polygon points=&quot;808.78,993.74 846.08,956.45 883.37,993.74 846.08,1031.04&quot; style=&quot;fill:#04C4AC&quot;/&gt;\n",
       "\t&lt;polygon points=&quot;814.89,993.74 846.08,962.56 877.26,993.74 846.08,1024.93&quot; style=&quot;fill:none;stroke:#04C4AC;stroke-width:8.64&quot;/&gt;\n",
       "\t&lt;text x=&quot;896.82&quot; y=&quot;1021.76&quot; style=&quot;font-family:&#x27;Helvetica&#x27;;font-size:79.94px;fill:#000000&quot;&gt;.23&lt;/text&gt;\n",
       "\t&lt;polygon points=&quot;1504.01,1103.27 1541.31,1065.97 1578.60,1103.27 1541.31,1140.56&quot; style=&quot;fill:#04C4AC&quot;/&gt;\n",
       "\t&lt;polygon points=&quot;1510.12,1103.27 1541.31,1072.08 1572.49,1103.27 1541.31,1134.45&quot; style=&quot;fill:none;stroke:#04C4AC;stroke-width:8.64&quot;/&gt;\n",
       "\t&lt;text x=&quot;1592.04&quot; y=&quot;1131.28&quot; style=&quot;font-family:&#x27;Helvetica&#x27;;font-size:79.94px;fill:#000000&quot;&gt;.19&lt;/text&gt;\n",
       "\t&lt;polygon points=&quot;2199.36,1400.40 2236.66,1363.10 2273.95,1400.40 2236.66,1437.69&quot; style=&quot;fill:#04C4AC&quot;/&gt;\n",
       "\t&lt;polygon points=&quot;2205.47,1400.40 2236.66,1369.21 2267.84,1400.40 2236.66,1431.58&quot; style=&quot;fill:none;stroke:#04C4AC;stroke-width:8.64&quot;/&gt;\n",
       "\t&lt;text x=&quot;2287.39&quot; y=&quot;1428.41&quot; style=&quot;font-family:&#x27;Helvetica&#x27;;font-size:79.94px;fill:#000000&quot;&gt;.093&lt;/text&gt;\n",
       "\t&lt;polygon points=&quot;2894.71,1334.31 2932.01,1297.02 2969.30,1334.31 2932.01,1371.61&quot; style=&quot;fill:#04C4AC&quot;/&gt;\n",
       "\t&lt;polygon points=&quot;2900.82,1334.31 2932.01,1303.13 2963.19,1334.31 2932.01,1365.50&quot; style=&quot;fill:none;stroke:#04C4AC;stroke-width:8.64&quot;/&gt;\n",
       "\t&lt;text x=&quot;2982.75&quot; y=&quot;1362.33&quot; style=&quot;font-family:&#x27;Helvetica&#x27;;font-size:79.94px;fill:#000000&quot;&gt;.11&lt;/text&gt;\n",
       "\t&lt;polygon points=&quot;3590.07,1185.69 3627.36,1148.39 3664.65,1185.69 3627.36,1222.98&quot; style=&quot;fill:#04C4AC&quot;/&gt;\n",
       "\t&lt;polygon points=&quot;3596.18,1185.69 3627.36,1154.50 3658.55,1185.69 3627.36,1216.87&quot; style=&quot;fill:none;stroke:#04C4AC;stroke-width:8.64&quot;/&gt;\n",
       "\t&lt;text x=&quot;3678.10&quot; y=&quot;1213.70&quot; style=&quot;font-family:&#x27;Helvetica&#x27;;font-size:79.94px;fill:#000000&quot;&gt;.16&lt;/text&gt;\n",
       "\t&lt;line x1=&quot;382.51&quot; y1=&quot;2039.22&quot; x2=&quot;382.51&quot; y2=&quot;419.90&quot; style=&quot;stroke:#000000;stroke-width:5.76&quot;/&gt;\n",
       "\t&lt;line x1=&quot;382.51&quot; y1=&quot;1975.85&quot; x2=&quot;342.54&quot; y2=&quot;1975.85&quot; style=&quot;stroke:#000000;stroke-width:5.76&quot;/&gt;\n",
       "\t&lt;text x=&quot;292.43&quot; y=&quot;1975.85&quot; style=&quot;font-family:&#x27;Helvetica&#x27;;font-size:99.99px;fill:#000000&quot; transform=&quot;rotate(-90 292.43,1975.85)&quot; text-anchor=&quot;middle&quot;&gt;-.1&lt;/text&gt;\n",
       "\t&lt;line x1=&quot;382.51&quot; y1=&quot;1677.36&quot; x2=&quot;342.54&quot; y2=&quot;1677.36&quot; style=&quot;stroke:#000000;stroke-width:5.76&quot;/&gt;\n",
       "\t&lt;text x=&quot;292.43&quot; y=&quot;1677.36&quot; style=&quot;font-family:&#x27;Helvetica&#x27;;font-size:99.99px;fill:#000000&quot; transform=&quot;rotate(-90 292.43,1677.36)&quot; text-anchor=&quot;middle&quot;&gt;0&lt;/text&gt;\n",
       "\t&lt;line x1=&quot;382.51&quot; y1=&quot;1378.74&quot; x2=&quot;342.54&quot; y2=&quot;1378.74&quot; style=&quot;stroke:#000000;stroke-width:5.76&quot;/&gt;\n",
       "\t&lt;text x=&quot;292.43&quot; y=&quot;1378.74&quot; style=&quot;font-family:&#x27;Helvetica&#x27;;font-size:99.99px;fill:#000000&quot; transform=&quot;rotate(-90 292.43,1378.74)&quot; text-anchor=&quot;middle&quot;&gt;.1&lt;/text&gt;\n",
       "\t&lt;line x1=&quot;382.51&quot; y1=&quot;1080.25&quot; x2=&quot;342.54&quot; y2=&quot;1080.25&quot; style=&quot;stroke:#000000;stroke-width:5.76&quot;/&gt;\n",
       "\t&lt;text x=&quot;292.43&quot; y=&quot;1080.25&quot; style=&quot;font-family:&#x27;Helvetica&#x27;;font-size:99.99px;fill:#000000&quot; transform=&quot;rotate(-90 292.43,1080.25)&quot; text-anchor=&quot;middle&quot;&gt;.2&lt;/text&gt;\n",
       "\t&lt;line x1=&quot;382.51&quot; y1=&quot;781.75&quot; x2=&quot;342.54&quot; y2=&quot;781.75&quot; style=&quot;stroke:#000000;stroke-width:5.76&quot;/&gt;\n",
       "\t&lt;text x=&quot;292.43&quot; y=&quot;781.75&quot; style=&quot;font-family:&#x27;Helvetica&#x27;;font-size:99.99px;fill:#000000&quot; transform=&quot;rotate(-90 292.43,781.75)&quot; text-anchor=&quot;middle&quot;&gt;.3&lt;/text&gt;\n",
       "\t&lt;line x1=&quot;382.51&quot; y1=&quot;483.26&quot; x2=&quot;342.54&quot; y2=&quot;483.26&quot; style=&quot;stroke:#000000;stroke-width:5.76&quot;/&gt;\n",
       "\t&lt;text x=&quot;292.43&quot; y=&quot;483.26&quot; style=&quot;font-family:&#x27;Helvetica&#x27;;font-size:99.99px;fill:#000000&quot; transform=&quot;rotate(-90 292.43,483.26)&quot; text-anchor=&quot;middle&quot;&gt;.4&lt;/text&gt;\n",
       "\t&lt;text x=&quot;190.71&quot; y=&quot;1229.49&quot; style=&quot;font-family:&#x27;Helvetica&#x27;;font-size:99.99px;fill:#000000&quot; transform=&quot;rotate(-90 190.71,1229.49)&quot; text-anchor=&quot;middle&quot;&gt;Standard deviations&lt;/text&gt;\n",
       "\t&lt;line x1=&quot;382.51&quot; y1=&quot;2039.22&quot; x2=&quot;3859.02&quot; y2=&quot;2039.22&quot; style=&quot;stroke:#000000;stroke-width:5.76&quot;/&gt;\n",
       "\t&lt;line x1=&quot;730.12&quot; y1=&quot;2039.22&quot; x2=&quot;730.12&quot; y2=&quot;2079.19&quot; style=&quot;stroke:#000000;stroke-width:5.76&quot;/&gt;\n",
       "\t&lt;text x=&quot;730.12&quot; y=&quot;2169.05&quot; style=&quot;font-family:&#x27;Helvetica&#x27;;font-size:99.99px;fill:#000000&quot; text-anchor=&quot;middle&quot;&gt;Math&lt;/text&gt;\n",
       "\t&lt;line x1=&quot;1425.48&quot; y1=&quot;2039.22&quot; x2=&quot;1425.48&quot; y2=&quot;2079.19&quot; style=&quot;stroke:#000000;stroke-width:5.76&quot;/&gt;\n",
       "\t&lt;text x=&quot;1425.48&quot; y=&quot;2269.04&quot; style=&quot;font-family:&#x27;Helvetica&#x27;;font-size:99.99px;fill:#000000&quot; text-anchor=&quot;middle&quot;&gt;Reading&lt;/text&gt;\n",
       "\t&lt;line x1=&quot;2120.83&quot; y1=&quot;2039.22&quot; x2=&quot;2120.83&quot; y2=&quot;2079.19&quot; style=&quot;stroke:#000000;stroke-width:5.76&quot;/&gt;\n",
       "\t&lt;text x=&quot;2120.83&quot; y=&quot;2169.05&quot; style=&quot;font-family:&#x27;Helvetica&#x27;;font-size:99.99px;fill:#000000&quot; text-anchor=&quot;middle&quot;&gt;Human Science&lt;/text&gt;\n",
       "\t&lt;line x1=&quot;2816.05&quot; y1=&quot;2039.22&quot; x2=&quot;2816.05&quot; y2=&quot;2079.19&quot; style=&quot;stroke:#000000;stroke-width:5.76&quot;/&gt;\n",
       "\t&lt;text x=&quot;2816.05&quot; y=&quot;2269.04&quot; style=&quot;font-family:&#x27;Helvetica&#x27;;font-size:99.99px;fill:#000000&quot; text-anchor=&quot;middle&quot;&gt;Natural Science&lt;/text&gt;\n",
       "\t&lt;line x1=&quot;3511.41&quot; y1=&quot;2039.22&quot; x2=&quot;3511.41&quot; y2=&quot;2079.19&quot; style=&quot;stroke:#000000;stroke-width:5.76&quot;/&gt;\n",
       "\t&lt;text x=&quot;3511.41&quot; y=&quot;2169.05&quot; style=&quot;font-family:&#x27;Helvetica&#x27;;font-size:99.99px;fill:#000000&quot; text-anchor=&quot;middle&quot;&gt;Average&lt;/text&gt;\n",
       "\t&lt;rect x=&quot;1623.23&quot; y=&quot;2363.70&quot; width=&quot;995.07&quot; height=&quot;186.37&quot; style=&quot;fill:#FFFFFF&quot;/&gt;\n",
       "\t&lt;rect x=&quot;1626.11&quot; y=&quot;2366.58&quot; width=&quot;989.31&quot; height=&quot;180.61&quot; style=&quot;fill:none;stroke:#000000;stroke-width:5.76&quot;/&gt;\n",
       "\t&lt;circle cx=&quot;1688.44&quot; cy=&quot;2456.89&quot; r=&quot;26.35&quot; style=&quot;fill:#8404FC&quot;/&gt;\n",
       "\t&lt;circle cx=&quot;1688.44&quot; cy=&quot;2456.89&quot; r=&quot;22.03&quot; style=&quot;fill:none;stroke:#8404FC;stroke-width:8.64&quot;/&gt;\n",
       "\t&lt;polygon points=&quot;2235.37,2456.89 2272.67,2419.59 2309.96,2456.89 2272.67,2494.18&quot; style=&quot;fill:#04C4AC&quot;/&gt;\n",
       "\t&lt;polygon points=&quot;2241.48,2456.89 2272.67,2425.70 2303.85,2456.89 2272.67,2488.07&quot; style=&quot;fill:none;stroke:#04C4AC;stroke-width:8.64&quot;/&gt;\n",
       "\t&lt;text x=&quot;1770.49&quot; y=&quot;2491.91&quot; style=&quot;font-family:&#x27;Helvetica&#x27;;font-size:99.99px;fill:#000000&quot;&gt;Female&lt;/text&gt;\n",
       "\t&lt;text x=&quot;2354.59&quot; y=&quot;2491.91&quot; style=&quot;font-family:&#x27;Helvetica&#x27;;font-size:99.99px;fill:#000000&quot;&gt;Male&lt;/text&gt;\n",
       "\t&lt;text x=&quot;399.71&quot; y=&quot;2657.95&quot; style=&quot;fill:#000000&quot;&gt;\n",
       "\t\t&lt;tspan style=&quot;font-family:&#x27;Helvetica&#x27;;font-weight:bold;font-size:79.94px&quot;&gt;Note:&lt;/tspan&gt;\n",
       "\t\t&lt;tspan style=&quot;font-family:&#x27;Helvetica&#x27;;font-size:79.94px&quot;&gt; Point estimates with 90% confidence intervals from regressions with strata fixed effects&lt;/tspan&gt;\n",
       "\t&lt;/text&gt;\n",
       "\t&lt;text x=&quot;399.71&quot; y=&quot;2737.89&quot; style=&quot;font-family:&#x27;Helvetica&#x27;;font-size:79.94px;fill:#000000&quot;&gt;and standard errors clustered at the school level.&lt;/text&gt;\n",
       "\t&lt;text x=&quot;2120.83&quot; y=&quot;369.63&quot; style=&quot;font-family:&#x27;Helvetica&#x27;;font-size:110.01px;fill:#000000&quot; text-anchor=&quot;middle&quot;&gt;Test Scores&lt;/text&gt;\n",
       "\t&lt;text x=&quot;2120.83&quot; y=&quot;215.98&quot; style=&quot;font-family:&#x27;Helvetica&#x27;;font-size:139.96px;fill:#1E2D53&quot; text-anchor=&quot;middle&quot;&gt;Treatment Effect&lt;/text&gt;\n",
       "&lt;/svg&gt;\n",
       "</body></html>\"></iframe>\n"
      ],
      "text/plain": [
       "This front-end cannot display the desired image type."
      ]
     },
     "metadata": {
      "image/svg+xml": {
       "height": 436,
       "width": 600
      },
      "text/html": {
       "height": 436,
       "width": 600
      }
     },
     "output_type": "display_data"
    }
   ],
   "source": [
    "coefplot `modelsList', keep(*school_treated*) vertical bycoefs byopts(yrescale) mlab mlabcolor(black) format(%9.2g) mlabposition(3) mlabgap(1) ///\n",
    "          levels(`statSignLevel')  ///\n",
    "          title(\"Treatment Effect\") ///\n",
    "          subtitle(\"Test Scores\")  ///\n",
    "          ytitle(\"Standard deviations\") ///\n",
    "          yline(0, lstyle(foreground))  ///\n",
    "          yscale(range(-0.1 0.4)) ylab(-0.1(0.1)0.4) ///\n",
    "          xlab(1 \"Math\" 2 \"Reading\" 3 \"Human Science\" 4 \"Natural Science\" 5 \"Average\", alt) ///\n",
    "          legend(order(2 4) lab(2 \"Female\") lab(4 \"Male\")) ///\n",
    "          note(\"{bf:Note:} Point estimates with `statSignLevel'% confidence intervals from regressions with strata fixed effects\" \"and standard errors clustered at the school level.\") ///\n",
    "          graphregion(color(white))\n"
   ]
  },
  {
   "cell_type": "markdown",
   "metadata": {},
   "source": [
    "## 4. Store graph in .png format"
   ]
  },
  {
   "cell_type": "code",
   "execution_count": null,
   "metadata": {},
   "outputs": [],
   "source": [
    "qui gr export \"figure.png\", width(5000) as(png) replace "
   ]
  }
 ],
 "metadata": {
  "kernelspec": {
   "display_name": "Stata",
   "language": "stata",
   "name": "stata"
  },
  "language_info": {
   "codemirror_mode": "stata",
   "file_extension": ".do",
   "mimetype": "text/x-stata",
   "name": "stata",
   "version": "15.1"
  }
 },
 "nbformat": 4,
 "nbformat_minor": 2
}
