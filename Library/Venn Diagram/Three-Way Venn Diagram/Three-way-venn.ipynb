{
 "cells": [
  {
   "cell_type": "markdown",
   "metadata": {},
   "source": [
    "### 1. Install package"
   ]
  },
  {
   "cell_type": "code",
   "execution_count": 1,
   "metadata": {},
   "outputs": [],
   "source": [
    "qui ssc install venndiag"
   ]
  },
  {
   "cell_type": "markdown",
   "metadata": {},
   "source": [
    "### 2. Load the data"
   ]
  },
  {
   "cell_type": "code",
   "execution_count": 2,
   "metadata": {},
   "outputs": [],
   "source": [
    "use \"https://raw.githubusercontent.com/worldbank/Stata-IE-Visual-Library/develop/Library/Venn%20Diagram/Three-Way%20Venn%20Diagram/data.dta\", clear"
   ]
  },
  {
   "cell_type": "markdown",
   "metadata": {},
   "source": [
    "### 3. Plot the graph"
   ]
  },
  {
   "cell_type": "code",
   "execution_count": 6,
   "metadata": {},
   "outputs": [
    {
     "name": "stdout",
     "output_type": "stream",
     "text": [
      "______________________________________________________________________\n",
      "\n",
      "Venn diagram of variables: med_l_any_2 med_k_any_16 med_l_any_3\n",
      "File: https://raw.githubusercontent.com/worldbank/Stata-IE-Visual-Library/develop/Library/Venn%20Diagram/Three-Way%20Venn%20Diagram/\n",
      "> data.dta (25 Oct 2018 )\n",
      "\n",
      "     Outcome    Variable and label \n",
      "A:       1           med_l_any_2    Fluoroquinolone\n",
      "B:       1           med_k_any_16    Cough Syrups\n",
      "C:       1           med_l_any_3    Other Antibiotic\n",
      "\n",
      "    834   Records in file\n",
      "      0   Records excluded by missing values\n",
      "    ___\n",
      "    834   Records in Diagram: \n",
      "Counts for combined variables:\n",
      "----------------------------------------------------------------------\n",
      "A      |     41    5 %  (med_l_any_2 == 1)& (med_k_any_16 != 1)& (med_l_any_3 != 1)\n",
      "B      |     44    5 %  (med_l_any_2 != 1)& (med_k_any_16 == 1)& (med_l_any_3 != 1)\n",
      "C      |    256   31 %  (med_l_any_2 != 1)& (med_k_any_16 != 1)& (med_l_any_3 == 1)\n",
      "AB     |     47    6 %  (med_l_any_2 == 1)& (med_k_any_16 == 1)& (med_l_any_3 != 1)\n",
      "AC     |      5    1 %  (med_l_any_2 == 1)& (med_k_any_16 != 1)& (med_l_any_3 == 1)\n",
      "BC     |    203   24 %  (med_l_any_2 != 1)& (med_k_any_16 == 1)& (med_l_any_3 == 1)\n",
      "ABC    |     13    2 %  (med_l_any_2 == 1)& (med_k_any_16 == 1)& (med_l_any_3 == 1)\n",
      "---    |    225   27 %  (med_l_any_2 != 1)& (med_k_any_16 != 1)& (med_l_any_3 != 1)\n",
      "----------------------------------------------------------------------\n",
      "______________________________________________________________________\n",
      "file /var/folders/91/s29yz9zd6d52xhy9wq3mdd700000gn/T//St61039.000006 saved\n",
      "number of observations (_N) was 0, now 1,001\n",
      "file /var/folders/91/s29yz9zd6d52xhy9wq3mdd700000gn/T//St61039.000006 saved\n",
      "number of observations (_N) was 0, now 1,001\n",
      "file /var/folders/91/s29yz9zd6d52xhy9wq3mdd700000gn/T//St61039.000006 saved\n",
      "number of observations (_N) was 0, now 1,001\n"
     ]
    }
   ],
   "source": [
    "venndiag med_l_any_2 med_k_any_16 med_l_any_3"
   ]
  },
  {
   "cell_type": "markdown",
   "metadata": {},
   "source": [
    "### 4. Export the graph in .png format"
   ]
  },
  {
   "cell_type": "code",
   "execution_count": null,
   "metadata": {},
   "outputs": [],
   "source": [
    "qui graph export \"3-way-venn.png\", as(png) replace"
   ]
  }
 ],
 "metadata": {
  "kernelspec": {
   "display_name": "Stata",
   "language": "stata",
   "name": "stata"
  },
  "language_info": {
   "codemirror_mode": "stata",
   "file_extension": ".do",
   "mimetype": "text/x-stata",
   "name": "stata",
   "version": "15.1"
  }
 },
 "nbformat": 4,
 "nbformat_minor": 2
}
