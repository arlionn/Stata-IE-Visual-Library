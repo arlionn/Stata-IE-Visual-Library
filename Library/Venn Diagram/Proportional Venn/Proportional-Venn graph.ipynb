{
 "cells": [
  {
   "cell_type": "markdown",
   "metadata": {},
   "source": [
    "### 1. Install Package"
   ]
  },
  {
   "cell_type": "code",
   "execution_count": 2,
   "metadata": {},
   "outputs": [
    {
     "name": "stdout",
     "output_type": "stream",
     "text": [
      "checking pvenn consistency and verifying not already installed...\n",
      "all files already exist and are up to date.\n"
     ]
    }
   ],
   "source": [
    "ssc install pvenn"
   ]
  },
  {
   "cell_type": "markdown",
   "metadata": {},
   "source": [
    "### 2. Prepare the data"
   ]
  },
  {
   "cell_type": "code",
   "execution_count": 3,
   "metadata": {},
   "outputs": [
    {
     "name": "stdout",
     "output_type": "stream",
     "text": [
      "\n",
      "(1978 Automobile Data)\n",
      "\n",
      "\n",
      "\n"
     ]
    }
   ],
   "source": [
    "sysuse auto\n",
    "\n",
    "generate heavy=weight>3000\n",
    "\n",
    "generate expensive=price>4000\n",
    "\n",
    "label variable foreign \"foreign\""
   ]
  },
  {
   "cell_type": "markdown",
   "metadata": {},
   "source": [
    "### 3. Plot the graph"
   ]
  },
  {
   "cell_type": "code",
   "execution_count": 4,
   "metadata": {},
   "outputs": [
    {
     "name": "stdout",
     "output_type": "stream",
     "text": [
      "\n",
      "    foreign |      Freq.     Percent        Cum.\n",
      "------------+-----------------------------------\n",
      "   Domestic |         52       70.27       70.27\n",
      "    Foreign |         22       29.73      100.00\n",
      "------------+-----------------------------------\n",
      "      Total |         74      100.00\n",
      "\n",
      "           |         heavy\n",
      "   foreign |         0          1 |     Total\n",
      "-----------+----------------------+----------\n",
      "  Domestic |        15         37 |        52 \n",
      "   Foreign |        20          2 |        22 \n",
      "-----------+----------------------+----------\n",
      "     Total |        35         39 |        74 \n",
      "foreign: 22\n",
      "heavy: 39\n",
      "Population C: 0\n",
      "AB Overlap: 2\n",
      "AC Overlap: 0\n",
      "BC Overlap: 0\n",
      "Total population: 74\n",
      "Draw total population rectangle (0,not; 1, yes): 1\n",
      "Rotation angle of circle B: 0\n",
      "Relative position of circle C (1,clockwise; -1,counterclockwise): 1\n",
      "Margin (i.e. subjects outside all the population A, B, and C) is not large enough; total population cannot be represented as outside rectangle.\n"
     ]
    }
   ],
   "source": [
    "pvenn foreign heavy"
   ]
  },
  {
   "cell_type": "markdown",
   "metadata": {},
   "source": [
    "### 4. Save the graph in .png format"
   ]
  },
  {
   "cell_type": "code",
   "execution_count": 6,
   "metadata": {},
   "outputs": [
    {
     "name": "stdout",
     "output_type": "stream",
     "text": [
      "(note: file proportional-venn.png not found)\n",
      "(file proportional-venn.png saved)\n"
     ]
    }
   ],
   "source": [
    "qui graph export \"proportional-venn.png\", as(png) replace"
   ]
  },
  {
   "cell_type": "code",
   "execution_count": null,
   "metadata": {},
   "outputs": [],
   "source": []
  }
 ],
 "metadata": {
  "kernelspec": {
   "display_name": "Stata",
   "language": "stata",
   "name": "stata"
  },
  "language_info": {
   "codemirror_mode": "stata",
   "file_extension": ".do",
   "mimetype": "text/x-stata",
   "name": "stata",
   "version": "15.1"
  }
 },
 "nbformat": 4,
 "nbformat_minor": 2
}
