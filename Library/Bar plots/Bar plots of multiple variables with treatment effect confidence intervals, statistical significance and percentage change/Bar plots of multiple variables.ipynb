{
 "cells": [
  {
   "cell_type": "markdown",
   "metadata": {},
   "source": [
    "## 1. Set up"
   ]
  },
  {
   "cell_type": "markdown",
   "metadata": {},
   "source": [
    "### 1) Install additional packages required to run the code"
   ]
  },
  {
   "cell_type": "code",
   "execution_count": 1,
   "metadata": {},
   "outputs": [],
   "source": [
    "qui ssc install reghdfe , replace\n",
    "qui ssc install ftools  , replace // needed for reghdfe to work"
   ]
  },
  {
   "cell_type": "markdown",
   "metadata": {},
   "source": [
    "### 2) Load the data"
   ]
  },
  {
   "cell_type": "code",
   "execution_count": 2,
   "metadata": {},
   "outputs": [
    {
     "name": "stdout",
     "output_type": "stream",
     "text": [
      "(Student Test Scores)\n"
     ]
    }
   ],
   "source": [
    "use \"https://raw.githubusercontent.com/worldbank/Stata-IE-Visual-Library/develop/Library/Bar%20plots/Bar%20plots%20of%20multiple%20variables%20with%20treatment%20effect%20confidence%20intervals%2C%20statistical%20significance%20and%20percentage%20change/data.dta\", clear"
   ]
  },
  {
   "cell_type": "markdown",
   "metadata": {},
   "source": [
    "### 3) Drop all existing matrices"
   ]
  },
  {
   "cell_type": "code",
   "execution_count": 3,
   "metadata": {},
   "outputs": [],
   "source": [
    "cap mat drop _all                 //otherwise, 'nullmat' will not work"
   ]
  },
  {
   "cell_type": "markdown",
   "metadata": {},
   "source": [
    "## 2. Store Results"
   ]
  },
  {
   "cell_type": "markdown",
   "metadata": {},
   "source": [
    "### 1) Store control means"
   ]
  },
  {
   "cell_type": "code",
   "execution_count": 4,
   "metadata": {},
   "outputs": [],
   "source": [
    "foreach subject in math reading human_sci natural_sci average {\n",
    "    qui sum student_`subject' if school_treated == 0\n",
    "    scalar     mean_`subject' = r(mean)\n",
    "    mat        mean_control   = nullmat(mean_control) \\ mean_`subject'  \n",
    "}"
   ]
  },
  {
   "cell_type": "markdown",
   "metadata": {},
   "source": [
    "### 2) Estimate treatment effect"
   ]
  },
  {
   "cell_type": "code",
   "execution_count": 5,
   "metadata": {},
   "outputs": [],
   "source": [
    "foreach subject in math reading human_sci natural_sci average {\n",
    "    qui reghdfe student_`subject' school_treated, ///\n",
    "        abs(school_strata) cl(school_id)\n",
    "\n",
    "            mat results = r(table) // Store regression table\n",
    "\n",
    "            mat beta    = nullmat(beta)    \\  _b[school_treated] \n",
    "            mat beta_se = nullmat(beta_se) \\ _se[school_treated] // Store treatment effect coefficient and standard error\n",
    "\n",
    "            mat pvalue_aux = results[4,1]\n",
    "            mat pvalue     = nullmat(pvalue)  \\ pvalue_aux       // Retrieve p-values from regression table and store them\n",
    "}"
   ]
  },
  {
   "cell_type": "markdown",
   "metadata": {},
   "source": [
    "## 3. Prepare the Data"
   ]
  },
  {
   "cell_type": "markdown",
   "metadata": {},
   "source": [
    "### 1) Remove data from memory"
   ]
  },
  {
   "cell_type": "code",
   "execution_count": 6,
   "metadata": {},
   "outputs": [],
   "source": [
    "clear"
   ]
  },
  {
   "cell_type": "markdown",
   "metadata": {},
   "source": [
    "### 2) Set outcome variables"
   ]
  },
  {
   "cell_type": "code",
   "execution_count": 7,
   "metadata": {},
   "outputs": [
    {
     "name": "stdout",
     "output_type": "stream",
     "text": [
      "\n",
      "number of observations (_N) was 0, now 5\n",
      "\n",
      "(5 missing values generated)\n",
      "\n",
      "\n",
      "\n",
      "\n",
      "\n"
     ]
    }
   ],
   "source": [
    "set obs 5\n",
    "\n",
    "gen         dep_var = \"\"\n",
    "qui replace dep_var = \"Math\"            in 1\n",
    "qui replace dep_var = \"Reading\"         in 2 \n",
    "qui replace dep_var = \"Human Science\"   in 3\n",
    "qui replace dep_var = \"Natural Science\" in 4\n",
    "qui replace dep_var = \"Average\"         in 5 "
   ]
  },
  {
   "cell_type": "markdown",
   "metadata": {},
   "source": [
    "### 3) Import results from matrices"
   ]
  },
  {
   "cell_type": "code",
   "execution_count": 8,
   "metadata": {},
   "outputs": [],
   "source": [
    "svmat beta\n",
    "svmat beta_se\n",
    "svmat pvalue\n",
    "svmat mean_control"
   ]
  },
  {
   "cell_type": "markdown",
   "metadata": {},
   "source": [
    "### 4) Rename all new variables"
   ]
  },
  {
   "cell_type": "code",
   "execution_count": 9,
   "metadata": {},
   "outputs": [],
   "source": [
    "rename *1 *"
   ]
  },
  {
   "cell_type": "markdown",
   "metadata": {},
   "source": [
    "### 5) Expand data to allow for control and treatment arms"
   ]
  },
  {
   "cell_type": "code",
   "execution_count": 10,
   "metadata": {},
   "outputs": [
    {
     "name": "stdout",
     "output_type": "stream",
     "text": [
      "(5 observations created)\n"
     ]
    }
   ],
   "source": [
    "expand 2, gen(treatment)"
   ]
  },
  {
   "cell_type": "markdown",
   "metadata": {},
   "source": [
    "### 6) Define outcome variable"
   ]
  },
  {
   "cell_type": "code",
   "execution_count": 11,
   "metadata": {},
   "outputs": [
    {
     "name": "stdout",
     "output_type": "stream",
     "text": [
      "\n",
      "(5 missing values generated)\n",
      "\n",
      "(5 real changes made)\n"
     ]
    }
   ],
   "source": [
    "gen     y = mean_control if !treatment\n",
    "replace y = mean_control + beta if  treatment"
   ]
  },
  {
   "cell_type": "markdown",
   "metadata": {},
   "source": [
    "### 7) Generate high and low points for standard error bars"
   ]
  },
  {
   "cell_type": "code",
   "execution_count": 12,
   "metadata": {},
   "outputs": [
    {
     "name": "stdout",
     "output_type": "stream",
     "text": [
      "\n",
      "(5 missing values generated)\n",
      "\n",
      "(5 missing values generated)\n"
     ]
    }
   ],
   "source": [
    "gen hiy  = y + 1.65 * beta_se if  treatment\n",
    "gen lowy = y - 1.65 * beta_se if  treatment"
   ]
  },
  {
   "cell_type": "markdown",
   "metadata": {},
   "source": [
    "### 8) Transform coefficient in string with two decimals + add stars"
   ]
  },
  {
   "cell_type": "code",
   "execution_count": 13,
   "metadata": {},
   "outputs": [
    {
     "name": "stdout",
     "output_type": "stream",
     "text": [
      "\n",
      "(10 missing values generated)\n",
      "\n",
      "variable coefficient_str was str1 now str5\n",
      "(2 real changes made)\n",
      "\n",
      "variable coefficient_str was str5 now str6\n",
      "(8 real changes made)\n",
      "\n",
      "(0 real changes made)\n"
     ]
    }
   ],
   "source": [
    "gen coefficient_str = \"\"\n",
    "replace coefficient_str = string(round(beta,.01), \"%9.2f\") + \"*\"   if pvalue>0.05 & pvalue<=0.10\n",
    "replace coefficient_str = string(round(beta,.01), \"%9.2f\") + \"**\"  if pvalue>0.01 & pvalue<=0.05\n",
    "replace coefficient_str = string(round(beta,.01), \"%9.2f\") + \"***\" if pvalue<=0.01"
   ]
  },
  {
   "cell_type": "markdown",
   "metadata": {},
   "source": [
    "### 9) Calculate percentage change and save it in string variable"
   ]
  },
  {
   "cell_type": "code",
   "execution_count": 14,
   "metadata": {},
   "outputs": [],
   "source": [
    "qui gen pct_change     = beta / mean_control * 100 if pvalue<=0.10\n",
    "qui gen pct_change_str = string(round(pct_change,.01), \"%9.2f\") + \"%\" if pvalue<=0.10"
   ]
  },
  {
   "cell_type": "markdown",
   "metadata": {},
   "source": [
    "### 10) Concatenate coefficient and percentange change (only when there is a significant effect)"
   ]
  },
  {
   "cell_type": "code",
   "execution_count": 15,
   "metadata": {},
   "outputs": [
    {
     "name": "stdout",
     "output_type": "stream",
     "text": [
      "\n",
      "\n",
      "(0 real changes made)\n"
     ]
    }
   ],
   "source": [
    "gen effect_lab     = coefficient_str + \": +\" + pct_change_str if  pct_change>0 & !mi(pct_change)\n",
    "replace effect_lab = coefficient_str + \": -\" + pct_change_str if  pct_change<0 & !mi(pct_change)"
   ]
  },
  {
   "cell_type": "markdown",
   "metadata": {},
   "source": [
    "### 11) Specify bars and label positioning"
   ]
  },
  {
   "cell_type": "code",
   "execution_count": 16,
   "metadata": {},
   "outputs": [],
   "source": [
    "qui gen bar_position     = treatment + 0.5  if  dep_var == \"Math\"\n",
    "\n",
    "qui replace bar_position = treatment + 4.5  if  dep_var == \"Reading\"\n",
    "qui replace bar_position = treatment + 8.5  if  dep_var == \"Human Science\"\n",
    "qui replace bar_position = treatment + 12.5 if  dep_var == \"Natural Science\"\n",
    "qui replace bar_position = treatment + 16.5 if  dep_var == \"Average\"\n",
    "\n",
    "qui gen effect_position  = bar_position + 0.5 if  treatment\n"
   ]
  },
  {
   "cell_type": "markdown",
   "metadata": {},
   "source": [
    "## 4. Plot the Graph"
   ]
  },
  {
   "cell_type": "code",
   "execution_count": 17,
   "metadata": {},
   "outputs": [
    {
     "data": {
      "application/pdf": "[encoded data removed]",
      "image/svg+xml": [
       "<?xml version=\"1.0\" encoding=\"UTF-8\" standalone=\"no\"?>\n",
       "<!-- This is a Stata 15.1 generated SVG file (http://www.stata.com) -->\n",
       "\n",
       "<svg version=\"1.1\" width=\"600px\" height=\"436px\" viewBox=\"0 0 3960 2880\" xmlns=\"http://www.w3.org/2000/svg\" xmlns:xlink=\"http://www.w3.org/1999/xlink\">\n",
       "\t<desc>Stata Graph - Graph</desc>\n",
       "\t<rect x=\"0\" y=\"0\" width=\"3960\" height=\"2880\" style=\"fill:#EAF2F3;stroke:none\"/>\n",
       "\t<rect x=\"0.00\" y=\"0.00\" width=\"3959.88\" height=\"2880.00\" style=\"fill:#FFFFFF\"/>\n",
       "\t<rect x=\"2.88\" y=\"2.88\" width=\"3954.12\" height=\"2874.24\" style=\"fill:none;stroke:#FFFFFF;stroke-width:5.76\"/>\n",
       "\t<rect x=\"408.50\" y=\"232.16\" width=\"3320.95\" height=\"1850.24\" style=\"fill:#FFFFFF\"/>\n",
       "\t<rect x=\"411.38\" y=\"235.04\" width=\"3315.20\" height=\"1844.48\" style=\"fill:none;stroke:#FFFFFF;stroke-width:5.76\"/>\n",
       "\t<line x1=\"408.50\" y1=\"2019.04\" x2=\"3729.45\" y2=\"2019.04\" style=\"stroke:#EAF2F3;stroke-width:8.64\"/>\n",
       "\t<line x1=\"408.50\" y1=\"1588.13\" x2=\"3729.45\" y2=\"1588.13\" style=\"stroke:#EAF2F3;stroke-width:8.64\"/>\n",
       "\t<line x1=\"408.50\" y1=\"1157.22\" x2=\"3729.45\" y2=\"1157.22\" style=\"stroke:#EAF2F3;stroke-width:8.64\"/>\n",
       "\t<line x1=\"408.50\" y1=\"726.44\" x2=\"3729.45\" y2=\"726.44\" style=\"stroke:#EAF2F3;stroke-width:8.64\"/>\n",
       "\t<line x1=\"408.50\" y1=\"295.52\" x2=\"3729.45\" y2=\"295.52\" style=\"stroke:#EAF2F3;stroke-width:8.64\"/>\n",
       "\t<rect x=\"471.86\" y=\"708.99\" width=\"177.46\" height=\"1310.06\" style=\"fill:#658397\"/>\n",
       "\t<rect x=\"474.74\" y=\"711.87\" width=\"171.70\" height=\"1304.30\" style=\"fill:none;stroke:#262626;stroke-width:5.76\"/>\n",
       "\t<rect x=\"1181.69\" y=\"532.27\" width=\"177.46\" height=\"1486.78\" style=\"fill:#658397\"/>\n",
       "\t<rect x=\"1184.57\" y=\"535.15\" width=\"171.70\" height=\"1481.02\" style=\"fill:none;stroke:#262626;stroke-width:5.76\"/>\n",
       "\t<rect x=\"1891.52\" y=\"637.58\" width=\"177.46\" height=\"1381.46\" style=\"fill:#658397\"/>\n",
       "\t<rect x=\"1894.40\" y=\"640.46\" width=\"171.70\" height=\"1375.70\" style=\"fill:none;stroke:#262626;stroke-width:5.76\"/>\n",
       "\t<rect x=\"2601.35\" y=\"547.36\" width=\"177.46\" height=\"1471.68\" style=\"fill:#658397\"/>\n",
       "\t<rect x=\"2604.23\" y=\"550.24\" width=\"171.70\" height=\"1465.92\" style=\"fill:none;stroke:#262626;stroke-width:5.76\"/>\n",
       "\t<rect x=\"3311.18\" y=\"614.44\" width=\"177.46\" height=\"1404.61\" style=\"fill:#658397\"/>\n",
       "\t<rect x=\"3314.06\" y=\"617.32\" width=\"171.70\" height=\"1398.85\" style=\"fill:none;stroke:#262626;stroke-width:5.76\"/>\n",
       "\t<rect x=\"649.32\" y=\"642.16\" width=\"177.46\" height=\"1376.89\" style=\"fill:#9BCDED\"/>\n",
       "\t<rect x=\"652.20\" y=\"645.04\" width=\"171.70\" height=\"1371.13\" style=\"fill:none;stroke:#262626;stroke-width:5.76\"/>\n",
       "\t<rect x=\"1359.15\" y=\"465.56\" width=\"177.46\" height=\"1553.48\" style=\"fill:#9BCDED\"/>\n",
       "\t<rect x=\"1362.03\" y=\"468.44\" width=\"171.70\" height=\"1547.72\" style=\"fill:none;stroke:#262626;stroke-width:5.76\"/>\n",
       "\t<rect x=\"2068.98\" y=\"608.13\" width=\"177.46\" height=\"1410.92\" style=\"fill:#9BCDED\"/>\n",
       "\t<rect x=\"2071.86\" y=\"611.01\" width=\"171.70\" height=\"1405.16\" style=\"fill:none;stroke:#262626;stroke-width:5.76\"/>\n",
       "\t<rect x=\"2778.81\" y=\"509.25\" width=\"177.46\" height=\"1509.80\" style=\"fill:#9BCDED\"/>\n",
       "\t<rect x=\"2781.69\" y=\"512.13\" width=\"171.70\" height=\"1504.04\" style=\"fill:none;stroke:#262626;stroke-width:5.76\"/>\n",
       "\t<rect x=\"3488.64\" y=\"561.60\" width=\"177.46\" height=\"1457.45\" style=\"fill:#9BCDED\"/>\n",
       "\t<rect x=\"3491.52\" y=\"564.47\" width=\"171.70\" height=\"1451.69\" style=\"fill:none;stroke:#262626;stroke-width:5.76\"/>\n",
       "\t<line x1=\"738.04\" y1=\"599.09\" x2=\"738.04\" y2=\"685.35\" style=\"stroke:#262626;stroke-width:8.64\"/>\n",
       "\t<line x1=\"727.28\" y1=\"685.35\" x2=\"748.93\" y2=\"685.35\" stroke-linecap=\"round\" style=\"stroke:#262626;stroke-width:8.64\"/>\n",
       "\t<line x1=\"727.28\" y1=\"599.09\" x2=\"748.93\" y2=\"599.09\" stroke-linecap=\"round\" style=\"stroke:#262626;stroke-width:8.64\"/>\n",
       "\t<line x1=\"1447.88\" y1=\"415.44\" x2=\"1447.88\" y2=\"515.68\" style=\"stroke:#262626;stroke-width:8.64\"/>\n",
       "\t<line x1=\"1437.11\" y1=\"515.68\" x2=\"1458.77\" y2=\"515.68\" stroke-linecap=\"round\" style=\"stroke:#262626;stroke-width:8.64\"/>\n",
       "\t<line x1=\"1437.11\" y1=\"415.44\" x2=\"1458.77\" y2=\"415.44\" stroke-linecap=\"round\" style=\"stroke:#262626;stroke-width:8.64\"/>\n",
       "\t<line x1=\"2157.70\" y1=\"580.41\" x2=\"2157.70\" y2=\"635.85\" style=\"stroke:#262626;stroke-width:8.64\"/>\n",
       "\t<line x1=\"2146.94\" y1=\"635.85\" x2=\"2168.59\" y2=\"635.85\" stroke-linecap=\"round\" style=\"stroke:#262626;stroke-width:8.64\"/>\n",
       "\t<line x1=\"2146.94\" y1=\"580.41\" x2=\"2168.59\" y2=\"580.41\" stroke-linecap=\"round\" style=\"stroke:#262626;stroke-width:8.64\"/>\n",
       "\t<line x1=\"2867.53\" y1=\"478.43\" x2=\"2867.53\" y2=\"540.06\" style=\"stroke:#262626;stroke-width:8.64\"/>\n",
       "\t<line x1=\"2856.77\" y1=\"540.06\" x2=\"2878.43\" y2=\"540.06\" stroke-linecap=\"round\" style=\"stroke:#262626;stroke-width:8.64\"/>\n",
       "\t<line x1=\"2856.77\" y1=\"478.43\" x2=\"2878.43\" y2=\"478.43\" stroke-linecap=\"round\" style=\"stroke:#262626;stroke-width:8.64\"/>\n",
       "\t<line x1=\"3577.36\" y1=\"526.33\" x2=\"3577.36\" y2=\"596.86\" style=\"stroke:#262626;stroke-width:8.64\"/>\n",
       "\t<line x1=\"3566.60\" y1=\"596.86\" x2=\"3588.26\" y2=\"596.86\" stroke-linecap=\"round\" style=\"stroke:#262626;stroke-width:8.64\"/>\n",
       "\t<line x1=\"3566.60\" y1=\"526.33\" x2=\"3588.26\" y2=\"526.33\" stroke-linecap=\"round\" style=\"stroke:#262626;stroke-width:8.64\"/>\n",
       "\t<circle cx=\"826.77\" cy=\"642.16\" r=\"4.57\" style=\"fill:#E37E00\"/>\n",
       "\t<circle cx=\"826.77\" cy=\"642.16\" r=\"0.25\" style=\"fill:none;stroke:#E37E00;stroke-width:8.64\"/>\n",
       "\t<text x=\"826.77\" y=\"555.78\" style=\"font-family:'Helvetica';font-size:79.94px;fill:#000000\" text-anchor=\"middle\">7.75**: +5.10%</text>\n",
       "\t<circle cx=\"1536.60\" cy=\"465.56\" r=\"4.57\" style=\"fill:#E37E00\"/>\n",
       "\t<circle cx=\"1536.60\" cy=\"465.56\" r=\"0.25\" style=\"fill:none;stroke:#E37E00;stroke-width:8.64\"/>\n",
       "\t<text x=\"1536.60\" y=\"379.18\" style=\"font-family:'Helvetica';font-size:79.94px;fill:#000000\" text-anchor=\"middle\">7.75**: +4.49%</text>\n",
       "\t<circle cx=\"2246.43\" cy=\"608.13\" r=\"4.57\" style=\"fill:#E37E00\"/>\n",
       "\t<circle cx=\"2246.43\" cy=\"608.13\" r=\"0.25\" style=\"fill:none;stroke:#E37E00;stroke-width:8.64\"/>\n",
       "\t<text x=\"2246.43\" y=\"521.75\" style=\"font-family:'Helvetica';font-size:79.94px;fill:#000000\" text-anchor=\"middle\">3.42*: +2.13%</text>\n",
       "\t<circle cx=\"2956.26\" cy=\"509.25\" r=\"4.57\" style=\"fill:#E37E00\"/>\n",
       "\t<circle cx=\"2956.26\" cy=\"509.25\" r=\"0.25\" style=\"fill:none;stroke:#E37E00;stroke-width:8.64\"/>\n",
       "\t<text x=\"2956.26\" y=\"422.87\" style=\"font-family:'Helvetica';font-size:79.94px;fill:#000000\" text-anchor=\"middle\">4.43**: +2.60%</text>\n",
       "\t<circle cx=\"3666.09\" cy=\"561.60\" r=\"4.57\" style=\"fill:#E37E00\"/>\n",
       "\t<circle cx=\"3666.09\" cy=\"561.60\" r=\"0.25\" style=\"fill:none;stroke:#E37E00;stroke-width:8.64\"/>\n",
       "\t<text x=\"3666.09\" y=\"475.21\" style=\"font-family:'Helvetica';font-size:79.94px;fill:#000000\" text-anchor=\"middle\">6.13**: +3.76%</text>\n",
       "\t<line x1=\"408.50\" y1=\"2082.41\" x2=\"408.50\" y2=\"232.16\" style=\"stroke:#000000;stroke-width:5.76\"/>\n",
       "\t<line x1=\"408.50\" y1=\"2019.04\" x2=\"368.53\" y2=\"2019.04\" style=\"stroke:#000000;stroke-width:5.76\"/>\n",
       "\t<text x=\"318.42\" y=\"2019.04\" style=\"font-family:'Helvetica';font-size:99.99px;fill:#000000\" transform=\"rotate(-90 318.42,2019.04)\" text-anchor=\"middle\">0</text>\n",
       "\t<line x1=\"408.50\" y1=\"1588.13\" x2=\"368.53\" y2=\"1588.13\" style=\"stroke:#000000;stroke-width:5.76\"/>\n",
       "\t<text x=\"318.42\" y=\"1588.13\" style=\"font-family:'Helvetica';font-size:99.99px;fill:#000000\" transform=\"rotate(-90 318.42,1588.13)\" text-anchor=\"middle\">50</text>\n",
       "\t<line x1=\"408.50\" y1=\"1157.22\" x2=\"368.53\" y2=\"1157.22\" style=\"stroke:#000000;stroke-width:5.76\"/>\n",
       "\t<text x=\"318.42\" y=\"1157.22\" style=\"font-family:'Helvetica';font-size:99.99px;fill:#000000\" transform=\"rotate(-90 318.42,1157.22)\" text-anchor=\"middle\">100</text>\n",
       "\t<line x1=\"408.50\" y1=\"726.44\" x2=\"368.53\" y2=\"726.44\" style=\"stroke:#000000;stroke-width:5.76\"/>\n",
       "\t<text x=\"318.42\" y=\"726.44\" style=\"font-family:'Helvetica';font-size:99.99px;fill:#000000\" transform=\"rotate(-90 318.42,726.44)\" text-anchor=\"middle\">150</text>\n",
       "\t<line x1=\"408.50\" y1=\"295.52\" x2=\"368.53\" y2=\"295.52\" style=\"stroke:#000000;stroke-width:5.76\"/>\n",
       "\t<text x=\"318.42\" y=\"295.52\" style=\"font-family:'Helvetica';font-size:99.99px;fill:#000000\" transform=\"rotate(-90 318.42,295.52)\" text-anchor=\"middle\">200</text>\n",
       "\t<line x1=\"408.50\" y1=\"2082.41\" x2=\"3729.45\" y2=\"2082.41\" style=\"stroke:#000000;stroke-width:5.76\"/>\n",
       "\t<line x1=\"649.32\" y1=\"2082.41\" x2=\"649.32\" y2=\"2122.38\" style=\"stroke:#000000;stroke-width:5.76\"/>\n",
       "\t<text x=\"649.32\" y=\"2212.36\" style=\"font-family:'Helvetica';font-size:99.99px;fill:#000000\" text-anchor=\"middle\">Math</text>\n",
       "\t<line x1=\"1359.15\" y1=\"2082.41\" x2=\"1359.15\" y2=\"2122.38\" style=\"stroke:#000000;stroke-width:5.76\"/>\n",
       "\t<text x=\"1359.15\" y=\"2312.35\" style=\"font-family:'Helvetica';font-size:99.99px;fill:#000000\" text-anchor=\"middle\">Reading</text>\n",
       "\t<line x1=\"2068.98\" y1=\"2082.41\" x2=\"2068.98\" y2=\"2122.38\" style=\"stroke:#000000;stroke-width:5.76\"/>\n",
       "\t<text x=\"2068.98\" y=\"2212.36\" style=\"font-family:'Helvetica';font-size:99.99px;fill:#000000\" text-anchor=\"middle\">Human Science</text>\n",
       "\t<line x1=\"2778.81\" y1=\"2082.41\" x2=\"2778.81\" y2=\"2122.38\" style=\"stroke:#000000;stroke-width:5.76\"/>\n",
       "\t<text x=\"2778.81\" y=\"2312.35\" style=\"font-family:'Helvetica';font-size:99.99px;fill:#000000\" text-anchor=\"middle\">Natural Science</text>\n",
       "\t<line x1=\"3488.64\" y1=\"2082.41\" x2=\"3488.64\" y2=\"2122.38\" style=\"stroke:#000000;stroke-width:5.76\"/>\n",
       "\t<text x=\"3488.64\" y=\"2212.36\" style=\"font-family:'Helvetica';font-size:99.99px;fill:#000000\" text-anchor=\"middle\">Average</text>\n",
       "\t<rect x=\"1121.92\" y=\"2406.89\" width=\"1894.12\" height=\"186.50\" style=\"fill:#FFFFFF\"/>\n",
       "\t<rect x=\"1124.80\" y=\"2409.77\" width=\"1888.36\" height=\"180.74\" style=\"fill:none;stroke:#000000;stroke-width:5.76\"/>\n",
       "\t<rect x=\"1165.11\" y=\"2450.08\" width=\"374.34\" height=\"99.99\" style=\"fill:#658397\"/>\n",
       "\t<rect x=\"1167.99\" y=\"2452.96\" width=\"368.58\" height=\"94.23\" style=\"fill:none;stroke:#262626;stroke-width:5.76\"/>\n",
       "\t<rect x=\"2072.32\" y=\"2450.08\" width=\"374.34\" height=\"99.99\" style=\"fill:#9BCDED\"/>\n",
       "\t<rect x=\"2075.20\" y=\"2452.96\" width=\"368.58\" height=\"94.23\" style=\"fill:none;stroke:#262626;stroke-width:5.76\"/>\n",
       "\t<text x=\"1599.47\" y=\"2535.10\" style=\"font-family:'Helvetica';font-size:99.99px;fill:#000000\">Control</text>\n",
       "\t<text x=\"2506.68\" y=\"2535.10\" style=\"font-family:'Helvetica';font-size:99.99px;fill:#000000\">Treatment</text>\n",
       "\t<text x=\"425.82\" y=\"2701.14\" style=\"fill:#000000\">\n",
       "\t\t<tspan style=\"font-family:'Helvetica';font-weight:bold;font-size:79.94px\">Note:</tspan>\n",
       "\t\t<tspan style=\"font-family:'Helvetica';font-size:79.94px\"> Means with 90% confidence intervals of the treatment effect, estimated by regressions</tspan>\n",
       "\t</text>\n",
       "\t<text x=\"425.82\" y=\"2781.08\" style=\"font-family:'Helvetica';font-size:79.94px;fill:#000000\">with strata fixed effects and standard errors clustered at the school level.</text>\n",
       "\t<text x=\"2068.98\" y=\"172.79\" style=\"font-family:'Helvetica';font-size:139.96px;fill:#1E2D53\" text-anchor=\"middle\">Impact on Test Scores</text>\n",
       "</svg>\n"
      ],
      "text/html": [
       "                <iframe frameborder=\"0\" scrolling=\"no\" height=\"436\" width=\"600\"                srcdoc=\"<html><body>&lt;?xml version=&quot;1.0&quot; encoding=&quot;UTF-8&quot; standalone=&quot;no&quot;?&gt;\n",
       "&lt;!-- This is a Stata 15.1 generated SVG file (http://www.stata.com) --&gt;\n",
       "\n",
       "&lt;svg version=&quot;1.1&quot; width=&quot;600px&quot; height=&quot;436px&quot; viewBox=&quot;0 0 3960 2880&quot; xmlns=&quot;http://www.w3.org/2000/svg&quot; xmlns:xlink=&quot;http://www.w3.org/1999/xlink&quot;&gt;\n",
       "\t&lt;desc&gt;Stata Graph - Graph&lt;/desc&gt;\n",
       "\t&lt;rect x=&quot;0&quot; y=&quot;0&quot; width=&quot;3960&quot; height=&quot;2880&quot; style=&quot;fill:#EAF2F3;stroke:none&quot;/&gt;\n",
       "\t&lt;rect x=&quot;0.00&quot; y=&quot;0.00&quot; width=&quot;3959.88&quot; height=&quot;2880.00&quot; style=&quot;fill:#FFFFFF&quot;/&gt;\n",
       "\t&lt;rect x=&quot;2.88&quot; y=&quot;2.88&quot; width=&quot;3954.12&quot; height=&quot;2874.24&quot; style=&quot;fill:none;stroke:#FFFFFF;stroke-width:5.76&quot;/&gt;\n",
       "\t&lt;rect x=&quot;408.50&quot; y=&quot;232.16&quot; width=&quot;3320.95&quot; height=&quot;1850.24&quot; style=&quot;fill:#FFFFFF&quot;/&gt;\n",
       "\t&lt;rect x=&quot;411.38&quot; y=&quot;235.04&quot; width=&quot;3315.20&quot; height=&quot;1844.48&quot; style=&quot;fill:none;stroke:#FFFFFF;stroke-width:5.76&quot;/&gt;\n",
       "\t&lt;line x1=&quot;408.50&quot; y1=&quot;2019.04&quot; x2=&quot;3729.45&quot; y2=&quot;2019.04&quot; style=&quot;stroke:#EAF2F3;stroke-width:8.64&quot;/&gt;\n",
       "\t&lt;line x1=&quot;408.50&quot; y1=&quot;1588.13&quot; x2=&quot;3729.45&quot; y2=&quot;1588.13&quot; style=&quot;stroke:#EAF2F3;stroke-width:8.64&quot;/&gt;\n",
       "\t&lt;line x1=&quot;408.50&quot; y1=&quot;1157.22&quot; x2=&quot;3729.45&quot; y2=&quot;1157.22&quot; style=&quot;stroke:#EAF2F3;stroke-width:8.64&quot;/&gt;\n",
       "\t&lt;line x1=&quot;408.50&quot; y1=&quot;726.44&quot; x2=&quot;3729.45&quot; y2=&quot;726.44&quot; style=&quot;stroke:#EAF2F3;stroke-width:8.64&quot;/&gt;\n",
       "\t&lt;line x1=&quot;408.50&quot; y1=&quot;295.52&quot; x2=&quot;3729.45&quot; y2=&quot;295.52&quot; style=&quot;stroke:#EAF2F3;stroke-width:8.64&quot;/&gt;\n",
       "\t&lt;rect x=&quot;471.86&quot; y=&quot;708.99&quot; width=&quot;177.46&quot; height=&quot;1310.06&quot; style=&quot;fill:#658397&quot;/&gt;\n",
       "\t&lt;rect x=&quot;474.74&quot; y=&quot;711.87&quot; width=&quot;171.70&quot; height=&quot;1304.30&quot; style=&quot;fill:none;stroke:#262626;stroke-width:5.76&quot;/&gt;\n",
       "\t&lt;rect x=&quot;1181.69&quot; y=&quot;532.27&quot; width=&quot;177.46&quot; height=&quot;1486.78&quot; style=&quot;fill:#658397&quot;/&gt;\n",
       "\t&lt;rect x=&quot;1184.57&quot; y=&quot;535.15&quot; width=&quot;171.70&quot; height=&quot;1481.02&quot; style=&quot;fill:none;stroke:#262626;stroke-width:5.76&quot;/&gt;\n",
       "\t&lt;rect x=&quot;1891.52&quot; y=&quot;637.58&quot; width=&quot;177.46&quot; height=&quot;1381.46&quot; style=&quot;fill:#658397&quot;/&gt;\n",
       "\t&lt;rect x=&quot;1894.40&quot; y=&quot;640.46&quot; width=&quot;171.70&quot; height=&quot;1375.70&quot; style=&quot;fill:none;stroke:#262626;stroke-width:5.76&quot;/&gt;\n",
       "\t&lt;rect x=&quot;2601.35&quot; y=&quot;547.36&quot; width=&quot;177.46&quot; height=&quot;1471.68&quot; style=&quot;fill:#658397&quot;/&gt;\n",
       "\t&lt;rect x=&quot;2604.23&quot; y=&quot;550.24&quot; width=&quot;171.70&quot; height=&quot;1465.92&quot; style=&quot;fill:none;stroke:#262626;stroke-width:5.76&quot;/&gt;\n",
       "\t&lt;rect x=&quot;3311.18&quot; y=&quot;614.44&quot; width=&quot;177.46&quot; height=&quot;1404.61&quot; style=&quot;fill:#658397&quot;/&gt;\n",
       "\t&lt;rect x=&quot;3314.06&quot; y=&quot;617.32&quot; width=&quot;171.70&quot; height=&quot;1398.85&quot; style=&quot;fill:none;stroke:#262626;stroke-width:5.76&quot;/&gt;\n",
       "\t&lt;rect x=&quot;649.32&quot; y=&quot;642.16&quot; width=&quot;177.46&quot; height=&quot;1376.89&quot; style=&quot;fill:#9BCDED&quot;/&gt;\n",
       "\t&lt;rect x=&quot;652.20&quot; y=&quot;645.04&quot; width=&quot;171.70&quot; height=&quot;1371.13&quot; style=&quot;fill:none;stroke:#262626;stroke-width:5.76&quot;/&gt;\n",
       "\t&lt;rect x=&quot;1359.15&quot; y=&quot;465.56&quot; width=&quot;177.46&quot; height=&quot;1553.48&quot; style=&quot;fill:#9BCDED&quot;/&gt;\n",
       "\t&lt;rect x=&quot;1362.03&quot; y=&quot;468.44&quot; width=&quot;171.70&quot; height=&quot;1547.72&quot; style=&quot;fill:none;stroke:#262626;stroke-width:5.76&quot;/&gt;\n",
       "\t&lt;rect x=&quot;2068.98&quot; y=&quot;608.13&quot; width=&quot;177.46&quot; height=&quot;1410.92&quot; style=&quot;fill:#9BCDED&quot;/&gt;\n",
       "\t&lt;rect x=&quot;2071.86&quot; y=&quot;611.01&quot; width=&quot;171.70&quot; height=&quot;1405.16&quot; style=&quot;fill:none;stroke:#262626;stroke-width:5.76&quot;/&gt;\n",
       "\t&lt;rect x=&quot;2778.81&quot; y=&quot;509.25&quot; width=&quot;177.46&quot; height=&quot;1509.80&quot; style=&quot;fill:#9BCDED&quot;/&gt;\n",
       "\t&lt;rect x=&quot;2781.69&quot; y=&quot;512.13&quot; width=&quot;171.70&quot; height=&quot;1504.04&quot; style=&quot;fill:none;stroke:#262626;stroke-width:5.76&quot;/&gt;\n",
       "\t&lt;rect x=&quot;3488.64&quot; y=&quot;561.60&quot; width=&quot;177.46&quot; height=&quot;1457.45&quot; style=&quot;fill:#9BCDED&quot;/&gt;\n",
       "\t&lt;rect x=&quot;3491.52&quot; y=&quot;564.47&quot; width=&quot;171.70&quot; height=&quot;1451.69&quot; style=&quot;fill:none;stroke:#262626;stroke-width:5.76&quot;/&gt;\n",
       "\t&lt;line x1=&quot;738.04&quot; y1=&quot;599.09&quot; x2=&quot;738.04&quot; y2=&quot;685.35&quot; style=&quot;stroke:#262626;stroke-width:8.64&quot;/&gt;\n",
       "\t&lt;line x1=&quot;727.28&quot; y1=&quot;685.35&quot; x2=&quot;748.93&quot; y2=&quot;685.35&quot; stroke-linecap=&quot;round&quot; style=&quot;stroke:#262626;stroke-width:8.64&quot;/&gt;\n",
       "\t&lt;line x1=&quot;727.28&quot; y1=&quot;599.09&quot; x2=&quot;748.93&quot; y2=&quot;599.09&quot; stroke-linecap=&quot;round&quot; style=&quot;stroke:#262626;stroke-width:8.64&quot;/&gt;\n",
       "\t&lt;line x1=&quot;1447.88&quot; y1=&quot;415.44&quot; x2=&quot;1447.88&quot; y2=&quot;515.68&quot; style=&quot;stroke:#262626;stroke-width:8.64&quot;/&gt;\n",
       "\t&lt;line x1=&quot;1437.11&quot; y1=&quot;515.68&quot; x2=&quot;1458.77&quot; y2=&quot;515.68&quot; stroke-linecap=&quot;round&quot; style=&quot;stroke:#262626;stroke-width:8.64&quot;/&gt;\n",
       "\t&lt;line x1=&quot;1437.11&quot; y1=&quot;415.44&quot; x2=&quot;1458.77&quot; y2=&quot;415.44&quot; stroke-linecap=&quot;round&quot; style=&quot;stroke:#262626;stroke-width:8.64&quot;/&gt;\n",
       "\t&lt;line x1=&quot;2157.70&quot; y1=&quot;580.41&quot; x2=&quot;2157.70&quot; y2=&quot;635.85&quot; style=&quot;stroke:#262626;stroke-width:8.64&quot;/&gt;\n",
       "\t&lt;line x1=&quot;2146.94&quot; y1=&quot;635.85&quot; x2=&quot;2168.59&quot; y2=&quot;635.85&quot; stroke-linecap=&quot;round&quot; style=&quot;stroke:#262626;stroke-width:8.64&quot;/&gt;\n",
       "\t&lt;line x1=&quot;2146.94&quot; y1=&quot;580.41&quot; x2=&quot;2168.59&quot; y2=&quot;580.41&quot; stroke-linecap=&quot;round&quot; style=&quot;stroke:#262626;stroke-width:8.64&quot;/&gt;\n",
       "\t&lt;line x1=&quot;2867.53&quot; y1=&quot;478.43&quot; x2=&quot;2867.53&quot; y2=&quot;540.06&quot; style=&quot;stroke:#262626;stroke-width:8.64&quot;/&gt;\n",
       "\t&lt;line x1=&quot;2856.77&quot; y1=&quot;540.06&quot; x2=&quot;2878.43&quot; y2=&quot;540.06&quot; stroke-linecap=&quot;round&quot; style=&quot;stroke:#262626;stroke-width:8.64&quot;/&gt;\n",
       "\t&lt;line x1=&quot;2856.77&quot; y1=&quot;478.43&quot; x2=&quot;2878.43&quot; y2=&quot;478.43&quot; stroke-linecap=&quot;round&quot; style=&quot;stroke:#262626;stroke-width:8.64&quot;/&gt;\n",
       "\t&lt;line x1=&quot;3577.36&quot; y1=&quot;526.33&quot; x2=&quot;3577.36&quot; y2=&quot;596.86&quot; style=&quot;stroke:#262626;stroke-width:8.64&quot;/&gt;\n",
       "\t&lt;line x1=&quot;3566.60&quot; y1=&quot;596.86&quot; x2=&quot;3588.26&quot; y2=&quot;596.86&quot; stroke-linecap=&quot;round&quot; style=&quot;stroke:#262626;stroke-width:8.64&quot;/&gt;\n",
       "\t&lt;line x1=&quot;3566.60&quot; y1=&quot;526.33&quot; x2=&quot;3588.26&quot; y2=&quot;526.33&quot; stroke-linecap=&quot;round&quot; style=&quot;stroke:#262626;stroke-width:8.64&quot;/&gt;\n",
       "\t&lt;circle cx=&quot;826.77&quot; cy=&quot;642.16&quot; r=&quot;4.57&quot; style=&quot;fill:#E37E00&quot;/&gt;\n",
       "\t&lt;circle cx=&quot;826.77&quot; cy=&quot;642.16&quot; r=&quot;0.25&quot; style=&quot;fill:none;stroke:#E37E00;stroke-width:8.64&quot;/&gt;\n",
       "\t&lt;text x=&quot;826.77&quot; y=&quot;555.78&quot; style=&quot;font-family:&#x27;Helvetica&#x27;;font-size:79.94px;fill:#000000&quot; text-anchor=&quot;middle&quot;&gt;7.75**: +5.10%&lt;/text&gt;\n",
       "\t&lt;circle cx=&quot;1536.60&quot; cy=&quot;465.56&quot; r=&quot;4.57&quot; style=&quot;fill:#E37E00&quot;/&gt;\n",
       "\t&lt;circle cx=&quot;1536.60&quot; cy=&quot;465.56&quot; r=&quot;0.25&quot; style=&quot;fill:none;stroke:#E37E00;stroke-width:8.64&quot;/&gt;\n",
       "\t&lt;text x=&quot;1536.60&quot; y=&quot;379.18&quot; style=&quot;font-family:&#x27;Helvetica&#x27;;font-size:79.94px;fill:#000000&quot; text-anchor=&quot;middle&quot;&gt;7.75**: +4.49%&lt;/text&gt;\n",
       "\t&lt;circle cx=&quot;2246.43&quot; cy=&quot;608.13&quot; r=&quot;4.57&quot; style=&quot;fill:#E37E00&quot;/&gt;\n",
       "\t&lt;circle cx=&quot;2246.43&quot; cy=&quot;608.13&quot; r=&quot;0.25&quot; style=&quot;fill:none;stroke:#E37E00;stroke-width:8.64&quot;/&gt;\n",
       "\t&lt;text x=&quot;2246.43&quot; y=&quot;521.75&quot; style=&quot;font-family:&#x27;Helvetica&#x27;;font-size:79.94px;fill:#000000&quot; text-anchor=&quot;middle&quot;&gt;3.42*: +2.13%&lt;/text&gt;\n",
       "\t&lt;circle cx=&quot;2956.26&quot; cy=&quot;509.25&quot; r=&quot;4.57&quot; style=&quot;fill:#E37E00&quot;/&gt;\n",
       "\t&lt;circle cx=&quot;2956.26&quot; cy=&quot;509.25&quot; r=&quot;0.25&quot; style=&quot;fill:none;stroke:#E37E00;stroke-width:8.64&quot;/&gt;\n",
       "\t&lt;text x=&quot;2956.26&quot; y=&quot;422.87&quot; style=&quot;font-family:&#x27;Helvetica&#x27;;font-size:79.94px;fill:#000000&quot; text-anchor=&quot;middle&quot;&gt;4.43**: +2.60%&lt;/text&gt;\n",
       "\t&lt;circle cx=&quot;3666.09&quot; cy=&quot;561.60&quot; r=&quot;4.57&quot; style=&quot;fill:#E37E00&quot;/&gt;\n",
       "\t&lt;circle cx=&quot;3666.09&quot; cy=&quot;561.60&quot; r=&quot;0.25&quot; style=&quot;fill:none;stroke:#E37E00;stroke-width:8.64&quot;/&gt;\n",
       "\t&lt;text x=&quot;3666.09&quot; y=&quot;475.21&quot; style=&quot;font-family:&#x27;Helvetica&#x27;;font-size:79.94px;fill:#000000&quot; text-anchor=&quot;middle&quot;&gt;6.13**: +3.76%&lt;/text&gt;\n",
       "\t&lt;line x1=&quot;408.50&quot; y1=&quot;2082.41&quot; x2=&quot;408.50&quot; y2=&quot;232.16&quot; style=&quot;stroke:#000000;stroke-width:5.76&quot;/&gt;\n",
       "\t&lt;line x1=&quot;408.50&quot; y1=&quot;2019.04&quot; x2=&quot;368.53&quot; y2=&quot;2019.04&quot; style=&quot;stroke:#000000;stroke-width:5.76&quot;/&gt;\n",
       "\t&lt;text x=&quot;318.42&quot; y=&quot;2019.04&quot; style=&quot;font-family:&#x27;Helvetica&#x27;;font-size:99.99px;fill:#000000&quot; transform=&quot;rotate(-90 318.42,2019.04)&quot; text-anchor=&quot;middle&quot;&gt;0&lt;/text&gt;\n",
       "\t&lt;line x1=&quot;408.50&quot; y1=&quot;1588.13&quot; x2=&quot;368.53&quot; y2=&quot;1588.13&quot; style=&quot;stroke:#000000;stroke-width:5.76&quot;/&gt;\n",
       "\t&lt;text x=&quot;318.42&quot; y=&quot;1588.13&quot; style=&quot;font-family:&#x27;Helvetica&#x27;;font-size:99.99px;fill:#000000&quot; transform=&quot;rotate(-90 318.42,1588.13)&quot; text-anchor=&quot;middle&quot;&gt;50&lt;/text&gt;\n",
       "\t&lt;line x1=&quot;408.50&quot; y1=&quot;1157.22&quot; x2=&quot;368.53&quot; y2=&quot;1157.22&quot; style=&quot;stroke:#000000;stroke-width:5.76&quot;/&gt;\n",
       "\t&lt;text x=&quot;318.42&quot; y=&quot;1157.22&quot; style=&quot;font-family:&#x27;Helvetica&#x27;;font-size:99.99px;fill:#000000&quot; transform=&quot;rotate(-90 318.42,1157.22)&quot; text-anchor=&quot;middle&quot;&gt;100&lt;/text&gt;\n",
       "\t&lt;line x1=&quot;408.50&quot; y1=&quot;726.44&quot; x2=&quot;368.53&quot; y2=&quot;726.44&quot; style=&quot;stroke:#000000;stroke-width:5.76&quot;/&gt;\n",
       "\t&lt;text x=&quot;318.42&quot; y=&quot;726.44&quot; style=&quot;font-family:&#x27;Helvetica&#x27;;font-size:99.99px;fill:#000000&quot; transform=&quot;rotate(-90 318.42,726.44)&quot; text-anchor=&quot;middle&quot;&gt;150&lt;/text&gt;\n",
       "\t&lt;line x1=&quot;408.50&quot; y1=&quot;295.52&quot; x2=&quot;368.53&quot; y2=&quot;295.52&quot; style=&quot;stroke:#000000;stroke-width:5.76&quot;/&gt;\n",
       "\t&lt;text x=&quot;318.42&quot; y=&quot;295.52&quot; style=&quot;font-family:&#x27;Helvetica&#x27;;font-size:99.99px;fill:#000000&quot; transform=&quot;rotate(-90 318.42,295.52)&quot; text-anchor=&quot;middle&quot;&gt;200&lt;/text&gt;\n",
       "\t&lt;line x1=&quot;408.50&quot; y1=&quot;2082.41&quot; x2=&quot;3729.45&quot; y2=&quot;2082.41&quot; style=&quot;stroke:#000000;stroke-width:5.76&quot;/&gt;\n",
       "\t&lt;line x1=&quot;649.32&quot; y1=&quot;2082.41&quot; x2=&quot;649.32&quot; y2=&quot;2122.38&quot; style=&quot;stroke:#000000;stroke-width:5.76&quot;/&gt;\n",
       "\t&lt;text x=&quot;649.32&quot; y=&quot;2212.36&quot; style=&quot;font-family:&#x27;Helvetica&#x27;;font-size:99.99px;fill:#000000&quot; text-anchor=&quot;middle&quot;&gt;Math&lt;/text&gt;\n",
       "\t&lt;line x1=&quot;1359.15&quot; y1=&quot;2082.41&quot; x2=&quot;1359.15&quot; y2=&quot;2122.38&quot; style=&quot;stroke:#000000;stroke-width:5.76&quot;/&gt;\n",
       "\t&lt;text x=&quot;1359.15&quot; y=&quot;2312.35&quot; style=&quot;font-family:&#x27;Helvetica&#x27;;font-size:99.99px;fill:#000000&quot; text-anchor=&quot;middle&quot;&gt;Reading&lt;/text&gt;\n",
       "\t&lt;line x1=&quot;2068.98&quot; y1=&quot;2082.41&quot; x2=&quot;2068.98&quot; y2=&quot;2122.38&quot; style=&quot;stroke:#000000;stroke-width:5.76&quot;/&gt;\n",
       "\t&lt;text x=&quot;2068.98&quot; y=&quot;2212.36&quot; style=&quot;font-family:&#x27;Helvetica&#x27;;font-size:99.99px;fill:#000000&quot; text-anchor=&quot;middle&quot;&gt;Human Science&lt;/text&gt;\n",
       "\t&lt;line x1=&quot;2778.81&quot; y1=&quot;2082.41&quot; x2=&quot;2778.81&quot; y2=&quot;2122.38&quot; style=&quot;stroke:#000000;stroke-width:5.76&quot;/&gt;\n",
       "\t&lt;text x=&quot;2778.81&quot; y=&quot;2312.35&quot; style=&quot;font-family:&#x27;Helvetica&#x27;;font-size:99.99px;fill:#000000&quot; text-anchor=&quot;middle&quot;&gt;Natural Science&lt;/text&gt;\n",
       "\t&lt;line x1=&quot;3488.64&quot; y1=&quot;2082.41&quot; x2=&quot;3488.64&quot; y2=&quot;2122.38&quot; style=&quot;stroke:#000000;stroke-width:5.76&quot;/&gt;\n",
       "\t&lt;text x=&quot;3488.64&quot; y=&quot;2212.36&quot; style=&quot;font-family:&#x27;Helvetica&#x27;;font-size:99.99px;fill:#000000&quot; text-anchor=&quot;middle&quot;&gt;Average&lt;/text&gt;\n",
       "\t&lt;rect x=&quot;1121.92&quot; y=&quot;2406.89&quot; width=&quot;1894.12&quot; height=&quot;186.50&quot; style=&quot;fill:#FFFFFF&quot;/&gt;\n",
       "\t&lt;rect x=&quot;1124.80&quot; y=&quot;2409.77&quot; width=&quot;1888.36&quot; height=&quot;180.74&quot; style=&quot;fill:none;stroke:#000000;stroke-width:5.76&quot;/&gt;\n",
       "\t&lt;rect x=&quot;1165.11&quot; y=&quot;2450.08&quot; width=&quot;374.34&quot; height=&quot;99.99&quot; style=&quot;fill:#658397&quot;/&gt;\n",
       "\t&lt;rect x=&quot;1167.99&quot; y=&quot;2452.96&quot; width=&quot;368.58&quot; height=&quot;94.23&quot; style=&quot;fill:none;stroke:#262626;stroke-width:5.76&quot;/&gt;\n",
       "\t&lt;rect x=&quot;2072.32&quot; y=&quot;2450.08&quot; width=&quot;374.34&quot; height=&quot;99.99&quot; style=&quot;fill:#9BCDED&quot;/&gt;\n",
       "\t&lt;rect x=&quot;2075.20&quot; y=&quot;2452.96&quot; width=&quot;368.58&quot; height=&quot;94.23&quot; style=&quot;fill:none;stroke:#262626;stroke-width:5.76&quot;/&gt;\n",
       "\t&lt;text x=&quot;1599.47&quot; y=&quot;2535.10&quot; style=&quot;font-family:&#x27;Helvetica&#x27;;font-size:99.99px;fill:#000000&quot;&gt;Control&lt;/text&gt;\n",
       "\t&lt;text x=&quot;2506.68&quot; y=&quot;2535.10&quot; style=&quot;font-family:&#x27;Helvetica&#x27;;font-size:99.99px;fill:#000000&quot;&gt;Treatment&lt;/text&gt;\n",
       "\t&lt;text x=&quot;425.82&quot; y=&quot;2701.14&quot; style=&quot;fill:#000000&quot;&gt;\n",
       "\t\t&lt;tspan style=&quot;font-family:&#x27;Helvetica&#x27;;font-weight:bold;font-size:79.94px&quot;&gt;Note:&lt;/tspan&gt;\n",
       "\t\t&lt;tspan style=&quot;font-family:&#x27;Helvetica&#x27;;font-size:79.94px&quot;&gt; Means with 90% confidence intervals of the treatment effect, estimated by regressions&lt;/tspan&gt;\n",
       "\t&lt;/text&gt;\n",
       "\t&lt;text x=&quot;425.82&quot; y=&quot;2781.08&quot; style=&quot;font-family:&#x27;Helvetica&#x27;;font-size:79.94px;fill:#000000&quot;&gt;with strata fixed effects and standard errors clustered at the school level.&lt;/text&gt;\n",
       "\t&lt;text x=&quot;2068.98&quot; y=&quot;172.79&quot; style=&quot;font-family:&#x27;Helvetica&#x27;;font-size:139.96px;fill:#1E2D53&quot; text-anchor=&quot;middle&quot;&gt;Impact on Test Scores&lt;/text&gt;\n",
       "&lt;/svg&gt;\n",
       "</body></html>\"></iframe>\n"
      ],
      "text/plain": [
       "This front-end cannot display the desired image type."
      ]
     },
     "metadata": {
      "image/svg+xml": {
       "height": 436,
       "width": 600
      },
      "text/html": {
       "height": 436,
       "width": 600
      }
     },
     "output_type": "display_data"
    }
   ],
   "source": [
    "gr tw ( bar y bar_position if !treatment , color(edkblue)   lcolor(black*0.85) ) ///\n",
    "      ( bar y bar_position if  treatment , color(eltblue)   lcolor(black*0.85) ) ///\n",
    "            ( rcap hiy lowy bar_position, msize(.75) lcolor(black*0.85) ) ///\n",
    "            ( scatter y effect_position, msize(zero) ///\n",
    "                                         mlab(effect_lab) ///\n",
    "                                         mlabpos(12) mlabgap(3)  ///\n",
    "                                         mlabcolor(black) mlabsize(small)    ), ///\n",
    "            title(\"Impact on Test Scores\") ///\n",
    "            ytitle(\"\") ///\n",
    "            xtitle(\"\")  ///\n",
    "            yscale(range(0 200)) ///\n",
    "            ylab(0(50)200)  ///\n",
    "            xlab(1 \"Math\" 5 \"Reading\" 9 \"Human Science\" 13 \"Natural Science\" 17 \"Average\", alt) ///\n",
    "            legend(order (1 \"Control\" 2 \"Treatment\"))   ///\n",
    "            note(\"{bf:Note:} Means with 90% confidence intervals of the treatment effect, estimated by regressions\" ///\n",
    "                                \"with strata fixed effects and standard errors clustered at the school level.\")  ///\n",
    "            graphregion(color(white)) ///\n",
    "            graphregion(margin(8 8 2 2))"
   ]
  },
  {
   "cell_type": "markdown",
   "metadata": {},
   "source": [
    "## 5. Export the Graph"
   ]
  },
  {
   "cell_type": "code",
   "execution_count": null,
   "metadata": {},
   "outputs": [],
   "source": [
    "qui graph export \"figure.png\", width(5000) as(png) replace"
   ]
  }
 ],
 "metadata": {
  "kernelspec": {
   "display_name": "Stata",
   "language": "stata",
   "name": "stata"
  },
  "language_info": {
   "codemirror_mode": "stata",
   "file_extension": ".do",
   "mimetype": "text/x-stata",
   "name": "stata",
   "version": "15.1"
  }
 },
 "nbformat": 4,
 "nbformat_minor": 2
}
